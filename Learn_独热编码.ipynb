{
 "cells": [
  {
   "cell_type": "markdown",
   "source": [
    "## 在分类任务中，有两种分类方法\n",
    "\n",
    "​\t任务是葡萄酒品质打分，有1-10分\n",
    "\n",
    "\n",
    "\n",
    "​\t一种方法是简单地将标签视为分数的整数向量：\n",
    "\n",
    "```python\n",
    "tensor([6, 6,  ..., 7, 6])\n",
    "```\n",
    "\n",
    "​\t另一种就是构建分数的单热编码:也就是说，在由10个元素组成的向量中对10个分数进行编码，所有元素都设置为0，但不设置为1，每个分数的索引都不同。这样，1的分数可以映射到向量(1,0,0,0,0,0,0,0,0,0,0,0,0)，5的分数可以映射到(0,0,0,0,1,0,0,0,0,0)，以此类推。请注意，分数与非零元素的索引相对应的事实纯粹是偶然的:我们可以打乱赋值，从分类的角度来看，没有任何改变。\n",
    "\n",
    "\n",
    "\n",
    "​\t这两种方法有很大的不同。将葡萄酒质量分数保存在分数的整数向量中会对分数进行排序，这在本例中可能是完全合适的，因为1的分数低于4的分数。它还能推导出分数之间的某种距离:也就是说，1到3的距离和2到4的距离是一样的。如果我们的数量也是如此，那太好了。另一方面，如果分数是纯粹离散的，如葡萄品种，一个热编码将是一个更好的适合，因为没有隐含的顺序或距离。当分数位于整数分数之间时，对于分数是这个或那个的应用程序来说没有任何意义时，One-hot编码也适用于定量分数。\n",
    "\n",
    "\n",
    "\n"
   ],
   "metadata": {
    "collapsed": false
   }
  },
  {
   "cell_type": "code",
   "execution_count": 15,
   "metadata": {
    "collapsed": true
   },
   "outputs": [
    {
     "data": {
      "text/plain": "tensor([2, 6, 3, 0, 7])"
     },
     "execution_count": 15,
     "metadata": {},
     "output_type": "execute_result"
    }
   ],
   "source": [
    "import torch\n",
    "target = torch.rand(5)*10\n",
    "target = target.type(torch.int64)\n",
    "target\n"
   ]
  },
  {
   "cell_type": "code",
   "execution_count": 16,
   "outputs": [
    {
     "data": {
      "text/plain": "tensor([[0., 0., 1., 0., 0., 0., 0., 0., 0., 0.],\n        [0., 0., 0., 0., 0., 0., 1., 0., 0., 0.],\n        [0., 0., 0., 1., 0., 0., 0., 0., 0., 0.],\n        [1., 0., 0., 0., 0., 0., 0., 0., 0., 0.],\n        [0., 0., 0., 0., 0., 0., 0., 1., 0., 0.]])"
     },
     "execution_count": 16,
     "metadata": {},
     "output_type": "execute_result"
    }
   ],
   "source": [
    "target_onehot = torch.zeros(target.shape[0], 10)\n",
    "target_onehot.scatter_(1, target.unsqueeze(1), 1.0)"
   ],
   "metadata": {
    "collapsed": false
   }
  },
  {
   "cell_type": "markdown",
   "source": [
    "## 为什么要用one-hot？\n",
    "\n",
    "​\t因为大部分算法是基于向量空间中的度量来进行计算的，为了使非偏序关系的变量取值不具有偏序性，并且到原点是等距的，（0,0,0,1),(1,0,0,0)到原点的距离都是$\\sqrt{2}$。使用one-hot编码，将离散特征的取值扩展到了欧式空间，离散特征的某个取值就对应欧式空间的某个点。将离散型特征使用one-hot编码，会让特征之间的距离计算更加合理。离散特征进行one-hot编码后，编码后的特征，其实每一维度的特征都可以看做是连续的特征。就可以跟对连续型特征的归一化方法一样，对每一维特征进行归一化。比如归一化到[-1,1]或归一化到均值为0,方差为1。\n",
    "\n",
    "\n"
   ],
   "metadata": {
    "collapsed": false
   }
  },
  {
   "cell_type": "markdown",
   "source": [
    "\n",
    "## 什么情况下(不)用独热编码\n",
    "\n",
    "​\t用：独热编码用来解决类别型数据的离散值问题，\n",
    "\n",
    "​\t不用：将离散型特征进行one-hot编码的作用，是为了让距离计算更合理，但如果特征是离散的，并且不用one-hot编码就可以很合理的计算出距离，那么就没必要进行one-hot编码。 有些基于树的算法在处理变量时，并不是基于向量空间度量，数值只是个类别符号，即没有偏序关系，所以不用进行独热编码。 Tree Model不太需要one-hot编码： 对于决策树来说，one-hot的本质是增加树的深度。"
   ],
   "metadata": {
    "collapsed": false
   }
  },
  {
   "cell_type": "code",
   "execution_count": null,
   "outputs": [],
   "source": [],
   "metadata": {
    "collapsed": false
   }
  }
 ],
 "metadata": {
  "kernelspec": {
   "display_name": "Python 3",
   "language": "python",
   "name": "python3"
  },
  "language_info": {
   "codemirror_mode": {
    "name": "ipython",
    "version": 2
   },
   "file_extension": ".py",
   "mimetype": "text/x-python",
   "name": "python",
   "nbconvert_exporter": "python",
   "pygments_lexer": "ipython2",
   "version": "2.7.6"
  }
 },
 "nbformat": 4,
 "nbformat_minor": 0
}
