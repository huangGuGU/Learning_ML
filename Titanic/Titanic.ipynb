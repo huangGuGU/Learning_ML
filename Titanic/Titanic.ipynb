{
 "cells": [
  {
   "cell_type": "code",
   "execution_count": 1,
   "metadata": {
    "ExecuteTime": {
     "end_time": "2023-10-03T16:25:23.567525Z",
     "start_time": "2023-10-03T16:25:23.554895Z"
    }
   },
   "outputs": [],
   "source": [
    "\n",
    "import os\n",
    "import urllib.request\n",
    "\n",
    "TITANIC_PATH = os.path.join(\"datasets\", \"titanic\")\n",
    "DOWNLOAD_URL = \"https://raw.githubusercontent.com/ageron/handson-ml2/master/datasets/titanic/\"\n",
    "\n",
    "def fetch_titanic_data(url=DOWNLOAD_URL, path=TITANIC_PATH):\n",
    "    if not os.path.isdir(path):\n",
    "        os.makedirs(path)\n",
    "    for filename in (\"train.csv\", \"test.csv\"):\n",
    "        filepath = os.path.join(path, filename)\n",
    "        if not os.path.isfile(filepath):\n",
    "            print(\"Downloading\", filename)\n",
    "            urllib.request.urlretrieve(url + filename, filepath)\n",
    "\n",
    "fetch_titanic_data()    \n"
   ]
  },
  {
   "cell_type": "code",
   "execution_count": 2,
   "metadata": {
    "ExecuteTime": {
     "end_time": "2023-10-03T16:25:24.675352Z",
     "start_time": "2023-10-03T16:25:24.447578Z"
    }
   },
   "outputs": [],
   "source": [
    "import pandas as pd\n",
    "\n",
    "def load_titanic_data(filename, titanic_path=TITANIC_PATH):\n",
    "    csv_path = os.path.join(titanic_path, filename)\n",
    "    return pd.read_csv(csv_path)"
   ]
  },
  {
   "cell_type": "code",
   "execution_count": 3,
   "metadata": {
    "ExecuteTime": {
     "end_time": "2023-10-03T16:25:24.830088Z",
     "start_time": "2023-10-03T16:25:24.820342Z"
    }
   },
   "outputs": [],
   "source": [
    "train_data = load_titanic_data(\"train.csv\")\n",
    "test_data = load_titanic_data(\"test.csv\")"
   ]
  },
  {
   "cell_type": "code",
   "execution_count": 4,
   "metadata": {
    "ExecuteTime": {
     "end_time": "2023-10-03T16:25:25.888805Z",
     "start_time": "2023-10-03T16:25:25.880126Z"
    }
   },
   "outputs": [
    {
     "data": {
      "text/plain": "     PassengerId  Survived  Pclass  \\\n0              1         0       3   \n1              2         1       1   \n2              3         1       3   \n3              4         1       1   \n4              5         0       3   \n..           ...       ...     ...   \n886          887         0       2   \n887          888         1       1   \n888          889         0       3   \n889          890         1       1   \n890          891         0       3   \n\n                                                  Name     Sex   Age  SibSp  \\\n0                              Braund, Mr. Owen Harris    male  22.0      1   \n1    Cumings, Mrs. John Bradley (Florence Briggs Th...  female  38.0      1   \n2                               Heikkinen, Miss. Laina  female  26.0      0   \n3         Futrelle, Mrs. Jacques Heath (Lily May Peel)  female  35.0      1   \n4                             Allen, Mr. William Henry    male  35.0      0   \n..                                                 ...     ...   ...    ...   \n886                              Montvila, Rev. Juozas    male  27.0      0   \n887                       Graham, Miss. Margaret Edith  female  19.0      0   \n888           Johnston, Miss. Catherine Helen 'Carrie'  female   NaN      1   \n889                              Behr, Mr. Karl Howell    male  26.0      0   \n890                                Dooley, Mr. Patrick    male  32.0      0   \n\n     Parch            Ticket     Fare Cabin Embarked  \n0        0         A/5 21171   7.2500   NaN        S  \n1        0          PC 17599  71.2833   C85        C  \n2        0  STON/O2. 3101282   7.9250   NaN        S  \n3        0            113803  53.1000  C123        S  \n4        0            373450   8.0500   NaN        S  \n..     ...               ...      ...   ...      ...  \n886      0            211536  13.0000   NaN        S  \n887      0            112053  30.0000   B42        S  \n888      2        W./C. 6607  23.4500   NaN        S  \n889      0            111369  30.0000  C148        C  \n890      0            370376   7.7500   NaN        Q  \n\n[891 rows x 12 columns]",
      "text/html": "<div>\n<style scoped>\n    .dataframe tbody tr th:only-of-type {\n        vertical-align: middle;\n    }\n\n    .dataframe tbody tr th {\n        vertical-align: top;\n    }\n\n    .dataframe thead th {\n        text-align: right;\n    }\n</style>\n<table border=\"1\" class=\"dataframe\">\n  <thead>\n    <tr style=\"text-align: right;\">\n      <th></th>\n      <th>PassengerId</th>\n      <th>Survived</th>\n      <th>Pclass</th>\n      <th>Name</th>\n      <th>Sex</th>\n      <th>Age</th>\n      <th>SibSp</th>\n      <th>Parch</th>\n      <th>Ticket</th>\n      <th>Fare</th>\n      <th>Cabin</th>\n      <th>Embarked</th>\n    </tr>\n  </thead>\n  <tbody>\n    <tr>\n      <th>0</th>\n      <td>1</td>\n      <td>0</td>\n      <td>3</td>\n      <td>Braund, Mr. Owen Harris</td>\n      <td>male</td>\n      <td>22.0</td>\n      <td>1</td>\n      <td>0</td>\n      <td>A/5 21171</td>\n      <td>7.2500</td>\n      <td>NaN</td>\n      <td>S</td>\n    </tr>\n    <tr>\n      <th>1</th>\n      <td>2</td>\n      <td>1</td>\n      <td>1</td>\n      <td>Cumings, Mrs. John Bradley (Florence Briggs Th...</td>\n      <td>female</td>\n      <td>38.0</td>\n      <td>1</td>\n      <td>0</td>\n      <td>PC 17599</td>\n      <td>71.2833</td>\n      <td>C85</td>\n      <td>C</td>\n    </tr>\n    <tr>\n      <th>2</th>\n      <td>3</td>\n      <td>1</td>\n      <td>3</td>\n      <td>Heikkinen, Miss. Laina</td>\n      <td>female</td>\n      <td>26.0</td>\n      <td>0</td>\n      <td>0</td>\n      <td>STON/O2. 3101282</td>\n      <td>7.9250</td>\n      <td>NaN</td>\n      <td>S</td>\n    </tr>\n    <tr>\n      <th>3</th>\n      <td>4</td>\n      <td>1</td>\n      <td>1</td>\n      <td>Futrelle, Mrs. Jacques Heath (Lily May Peel)</td>\n      <td>female</td>\n      <td>35.0</td>\n      <td>1</td>\n      <td>0</td>\n      <td>113803</td>\n      <td>53.1000</td>\n      <td>C123</td>\n      <td>S</td>\n    </tr>\n    <tr>\n      <th>4</th>\n      <td>5</td>\n      <td>0</td>\n      <td>3</td>\n      <td>Allen, Mr. William Henry</td>\n      <td>male</td>\n      <td>35.0</td>\n      <td>0</td>\n      <td>0</td>\n      <td>373450</td>\n      <td>8.0500</td>\n      <td>NaN</td>\n      <td>S</td>\n    </tr>\n    <tr>\n      <th>...</th>\n      <td>...</td>\n      <td>...</td>\n      <td>...</td>\n      <td>...</td>\n      <td>...</td>\n      <td>...</td>\n      <td>...</td>\n      <td>...</td>\n      <td>...</td>\n      <td>...</td>\n      <td>...</td>\n      <td>...</td>\n    </tr>\n    <tr>\n      <th>886</th>\n      <td>887</td>\n      <td>0</td>\n      <td>2</td>\n      <td>Montvila, Rev. Juozas</td>\n      <td>male</td>\n      <td>27.0</td>\n      <td>0</td>\n      <td>0</td>\n      <td>211536</td>\n      <td>13.0000</td>\n      <td>NaN</td>\n      <td>S</td>\n    </tr>\n    <tr>\n      <th>887</th>\n      <td>888</td>\n      <td>1</td>\n      <td>1</td>\n      <td>Graham, Miss. Margaret Edith</td>\n      <td>female</td>\n      <td>19.0</td>\n      <td>0</td>\n      <td>0</td>\n      <td>112053</td>\n      <td>30.0000</td>\n      <td>B42</td>\n      <td>S</td>\n    </tr>\n    <tr>\n      <th>888</th>\n      <td>889</td>\n      <td>0</td>\n      <td>3</td>\n      <td>Johnston, Miss. Catherine Helen 'Carrie'</td>\n      <td>female</td>\n      <td>NaN</td>\n      <td>1</td>\n      <td>2</td>\n      <td>W./C. 6607</td>\n      <td>23.4500</td>\n      <td>NaN</td>\n      <td>S</td>\n    </tr>\n    <tr>\n      <th>889</th>\n      <td>890</td>\n      <td>1</td>\n      <td>1</td>\n      <td>Behr, Mr. Karl Howell</td>\n      <td>male</td>\n      <td>26.0</td>\n      <td>0</td>\n      <td>0</td>\n      <td>111369</td>\n      <td>30.0000</td>\n      <td>C148</td>\n      <td>C</td>\n    </tr>\n    <tr>\n      <th>890</th>\n      <td>891</td>\n      <td>0</td>\n      <td>3</td>\n      <td>Dooley, Mr. Patrick</td>\n      <td>male</td>\n      <td>32.0</td>\n      <td>0</td>\n      <td>0</td>\n      <td>370376</td>\n      <td>7.7500</td>\n      <td>NaN</td>\n      <td>Q</td>\n    </tr>\n  </tbody>\n</table>\n<p>891 rows × 12 columns</p>\n</div>"
     },
     "execution_count": 4,
     "metadata": {},
     "output_type": "execute_result"
    }
   ],
   "source": [
    "train_data"
   ]
  },
  {
   "cell_type": "code",
   "execution_count": 5,
   "metadata": {
    "ExecuteTime": {
     "end_time": "2023-10-03T16:25:26.310650Z",
     "start_time": "2023-10-03T16:25:26.303891Z"
    }
   },
   "outputs": [
    {
     "data": {
      "text/plain": "     PassengerId  Survived  Pclass  \\\n0              1       0.0       3   \n1              2       1.0       1   \n2              3       1.0       3   \n3              4       1.0       1   \n4              5       0.0       3   \n..           ...       ...     ...   \n413         1305       NaN       3   \n414         1306       NaN       1   \n415         1307       NaN       3   \n416         1308       NaN       3   \n417         1309       NaN       3   \n\n                                                  Name     Sex   Age  SibSp  \\\n0                              Braund, Mr. Owen Harris    male  22.0      1   \n1    Cumings, Mrs. John Bradley (Florence Briggs Th...  female  38.0      1   \n2                               Heikkinen, Miss. Laina  female  26.0      0   \n3         Futrelle, Mrs. Jacques Heath (Lily May Peel)  female  35.0      1   \n4                             Allen, Mr. William Henry    male  35.0      0   \n..                                                 ...     ...   ...    ...   \n413                                 Spector, Mr. Woolf    male   NaN      0   \n414                       Oliva y Ocana, Dona. Fermina  female  39.0      0   \n415                       Saether, Mr. Simon Sivertsen    male  38.5      0   \n416                                Ware, Mr. Frederick    male   NaN      0   \n417                           Peter, Master. Michael J    male   NaN      1   \n\n     Parch              Ticket      Fare Cabin Embarked  \n0        0           A/5 21171    7.2500   NaN        S  \n1        0            PC 17599   71.2833   C85        C  \n2        0    STON/O2. 3101282    7.9250   NaN        S  \n3        0              113803   53.1000  C123        S  \n4        0              373450    8.0500   NaN        S  \n..     ...                 ...       ...   ...      ...  \n413      0           A.5. 3236    8.0500   NaN        S  \n414      0            PC 17758  108.9000  C105        C  \n415      0  SOTON/O.Q. 3101262    7.2500   NaN        S  \n416      0              359309    8.0500   NaN        S  \n417      1                2668   22.3583   NaN        C  \n\n[1309 rows x 12 columns]",
      "text/html": "<div>\n<style scoped>\n    .dataframe tbody tr th:only-of-type {\n        vertical-align: middle;\n    }\n\n    .dataframe tbody tr th {\n        vertical-align: top;\n    }\n\n    .dataframe thead th {\n        text-align: right;\n    }\n</style>\n<table border=\"1\" class=\"dataframe\">\n  <thead>\n    <tr style=\"text-align: right;\">\n      <th></th>\n      <th>PassengerId</th>\n      <th>Survived</th>\n      <th>Pclass</th>\n      <th>Name</th>\n      <th>Sex</th>\n      <th>Age</th>\n      <th>SibSp</th>\n      <th>Parch</th>\n      <th>Ticket</th>\n      <th>Fare</th>\n      <th>Cabin</th>\n      <th>Embarked</th>\n    </tr>\n  </thead>\n  <tbody>\n    <tr>\n      <th>0</th>\n      <td>1</td>\n      <td>0.0</td>\n      <td>3</td>\n      <td>Braund, Mr. Owen Harris</td>\n      <td>male</td>\n      <td>22.0</td>\n      <td>1</td>\n      <td>0</td>\n      <td>A/5 21171</td>\n      <td>7.2500</td>\n      <td>NaN</td>\n      <td>S</td>\n    </tr>\n    <tr>\n      <th>1</th>\n      <td>2</td>\n      <td>1.0</td>\n      <td>1</td>\n      <td>Cumings, Mrs. John Bradley (Florence Briggs Th...</td>\n      <td>female</td>\n      <td>38.0</td>\n      <td>1</td>\n      <td>0</td>\n      <td>PC 17599</td>\n      <td>71.2833</td>\n      <td>C85</td>\n      <td>C</td>\n    </tr>\n    <tr>\n      <th>2</th>\n      <td>3</td>\n      <td>1.0</td>\n      <td>3</td>\n      <td>Heikkinen, Miss. Laina</td>\n      <td>female</td>\n      <td>26.0</td>\n      <td>0</td>\n      <td>0</td>\n      <td>STON/O2. 3101282</td>\n      <td>7.9250</td>\n      <td>NaN</td>\n      <td>S</td>\n    </tr>\n    <tr>\n      <th>3</th>\n      <td>4</td>\n      <td>1.0</td>\n      <td>1</td>\n      <td>Futrelle, Mrs. Jacques Heath (Lily May Peel)</td>\n      <td>female</td>\n      <td>35.0</td>\n      <td>1</td>\n      <td>0</td>\n      <td>113803</td>\n      <td>53.1000</td>\n      <td>C123</td>\n      <td>S</td>\n    </tr>\n    <tr>\n      <th>4</th>\n      <td>5</td>\n      <td>0.0</td>\n      <td>3</td>\n      <td>Allen, Mr. William Henry</td>\n      <td>male</td>\n      <td>35.0</td>\n      <td>0</td>\n      <td>0</td>\n      <td>373450</td>\n      <td>8.0500</td>\n      <td>NaN</td>\n      <td>S</td>\n    </tr>\n    <tr>\n      <th>...</th>\n      <td>...</td>\n      <td>...</td>\n      <td>...</td>\n      <td>...</td>\n      <td>...</td>\n      <td>...</td>\n      <td>...</td>\n      <td>...</td>\n      <td>...</td>\n      <td>...</td>\n      <td>...</td>\n      <td>...</td>\n    </tr>\n    <tr>\n      <th>413</th>\n      <td>1305</td>\n      <td>NaN</td>\n      <td>3</td>\n      <td>Spector, Mr. Woolf</td>\n      <td>male</td>\n      <td>NaN</td>\n      <td>0</td>\n      <td>0</td>\n      <td>A.5. 3236</td>\n      <td>8.0500</td>\n      <td>NaN</td>\n      <td>S</td>\n    </tr>\n    <tr>\n      <th>414</th>\n      <td>1306</td>\n      <td>NaN</td>\n      <td>1</td>\n      <td>Oliva y Ocana, Dona. Fermina</td>\n      <td>female</td>\n      <td>39.0</td>\n      <td>0</td>\n      <td>0</td>\n      <td>PC 17758</td>\n      <td>108.9000</td>\n      <td>C105</td>\n      <td>C</td>\n    </tr>\n    <tr>\n      <th>415</th>\n      <td>1307</td>\n      <td>NaN</td>\n      <td>3</td>\n      <td>Saether, Mr. Simon Sivertsen</td>\n      <td>male</td>\n      <td>38.5</td>\n      <td>0</td>\n      <td>0</td>\n      <td>SOTON/O.Q. 3101262</td>\n      <td>7.2500</td>\n      <td>NaN</td>\n      <td>S</td>\n    </tr>\n    <tr>\n      <th>416</th>\n      <td>1308</td>\n      <td>NaN</td>\n      <td>3</td>\n      <td>Ware, Mr. Frederick</td>\n      <td>male</td>\n      <td>NaN</td>\n      <td>0</td>\n      <td>0</td>\n      <td>359309</td>\n      <td>8.0500</td>\n      <td>NaN</td>\n      <td>S</td>\n    </tr>\n    <tr>\n      <th>417</th>\n      <td>1309</td>\n      <td>NaN</td>\n      <td>3</td>\n      <td>Peter, Master. Michael J</td>\n      <td>male</td>\n      <td>NaN</td>\n      <td>1</td>\n      <td>1</td>\n      <td>2668</td>\n      <td>22.3583</td>\n      <td>NaN</td>\n      <td>C</td>\n    </tr>\n  </tbody>\n</table>\n<p>1309 rows × 12 columns</p>\n</div>"
     },
     "execution_count": 5,
     "metadata": {},
     "output_type": "execute_result"
    }
   ],
   "source": [
    "# # 合并训练和测试数据\n",
    "data = pd.concat([train_data,test_data])\n",
    "data"
   ]
  },
  {
   "cell_type": "code",
   "execution_count": 6,
   "metadata": {
    "ExecuteTime": {
     "end_time": "2023-10-03T16:25:26.726965Z",
     "start_time": "2023-10-03T16:25:26.722085Z"
    }
   },
   "outputs": [
    {
     "data": {
      "text/plain": "     PassengerId  Survived  Pclass  \\\n0              1       0.0       3   \n1              2       1.0       1   \n2              3       1.0       3   \n3              4       1.0       1   \n4              5       0.0       3   \n..           ...       ...     ...   \n413         1305       NaN       3   \n414         1306       NaN       1   \n415         1307       NaN       3   \n416         1308       NaN       3   \n417         1309       NaN       3   \n\n                                                  Name     Sex   Age  SibSp  \\\n0                              Braund, Mr. Owen Harris    male  22.0      1   \n1    Cumings, Mrs. John Bradley (Florence Briggs Th...  female  38.0      1   \n2                               Heikkinen, Miss. Laina  female  26.0      0   \n3         Futrelle, Mrs. Jacques Heath (Lily May Peel)  female  35.0      1   \n4                             Allen, Mr. William Henry    male  35.0      0   \n..                                                 ...     ...   ...    ...   \n413                                 Spector, Mr. Woolf    male   NaN      0   \n414                       Oliva y Ocana, Dona. Fermina  female  39.0      0   \n415                       Saether, Mr. Simon Sivertsen    male  38.5      0   \n416                                Ware, Mr. Frederick    male   NaN      0   \n417                           Peter, Master. Michael J    male   NaN      1   \n\n     Parch      Fare Embarked  \n0        0    7.2500        S  \n1        0   71.2833        C  \n2        0    7.9250        S  \n3        0   53.1000        S  \n4        0    8.0500        S  \n..     ...       ...      ...  \n413      0    8.0500        S  \n414      0  108.9000        C  \n415      0    7.2500        S  \n416      0    8.0500        S  \n417      1   22.3583        C  \n\n[1309 rows x 10 columns]",
      "text/html": "<div>\n<style scoped>\n    .dataframe tbody tr th:only-of-type {\n        vertical-align: middle;\n    }\n\n    .dataframe tbody tr th {\n        vertical-align: top;\n    }\n\n    .dataframe thead th {\n        text-align: right;\n    }\n</style>\n<table border=\"1\" class=\"dataframe\">\n  <thead>\n    <tr style=\"text-align: right;\">\n      <th></th>\n      <th>PassengerId</th>\n      <th>Survived</th>\n      <th>Pclass</th>\n      <th>Name</th>\n      <th>Sex</th>\n      <th>Age</th>\n      <th>SibSp</th>\n      <th>Parch</th>\n      <th>Fare</th>\n      <th>Embarked</th>\n    </tr>\n  </thead>\n  <tbody>\n    <tr>\n      <th>0</th>\n      <td>1</td>\n      <td>0.0</td>\n      <td>3</td>\n      <td>Braund, Mr. Owen Harris</td>\n      <td>male</td>\n      <td>22.0</td>\n      <td>1</td>\n      <td>0</td>\n      <td>7.2500</td>\n      <td>S</td>\n    </tr>\n    <tr>\n      <th>1</th>\n      <td>2</td>\n      <td>1.0</td>\n      <td>1</td>\n      <td>Cumings, Mrs. John Bradley (Florence Briggs Th...</td>\n      <td>female</td>\n      <td>38.0</td>\n      <td>1</td>\n      <td>0</td>\n      <td>71.2833</td>\n      <td>C</td>\n    </tr>\n    <tr>\n      <th>2</th>\n      <td>3</td>\n      <td>1.0</td>\n      <td>3</td>\n      <td>Heikkinen, Miss. Laina</td>\n      <td>female</td>\n      <td>26.0</td>\n      <td>0</td>\n      <td>0</td>\n      <td>7.9250</td>\n      <td>S</td>\n    </tr>\n    <tr>\n      <th>3</th>\n      <td>4</td>\n      <td>1.0</td>\n      <td>1</td>\n      <td>Futrelle, Mrs. Jacques Heath (Lily May Peel)</td>\n      <td>female</td>\n      <td>35.0</td>\n      <td>1</td>\n      <td>0</td>\n      <td>53.1000</td>\n      <td>S</td>\n    </tr>\n    <tr>\n      <th>4</th>\n      <td>5</td>\n      <td>0.0</td>\n      <td>3</td>\n      <td>Allen, Mr. William Henry</td>\n      <td>male</td>\n      <td>35.0</td>\n      <td>0</td>\n      <td>0</td>\n      <td>8.0500</td>\n      <td>S</td>\n    </tr>\n    <tr>\n      <th>...</th>\n      <td>...</td>\n      <td>...</td>\n      <td>...</td>\n      <td>...</td>\n      <td>...</td>\n      <td>...</td>\n      <td>...</td>\n      <td>...</td>\n      <td>...</td>\n      <td>...</td>\n    </tr>\n    <tr>\n      <th>413</th>\n      <td>1305</td>\n      <td>NaN</td>\n      <td>3</td>\n      <td>Spector, Mr. Woolf</td>\n      <td>male</td>\n      <td>NaN</td>\n      <td>0</td>\n      <td>0</td>\n      <td>8.0500</td>\n      <td>S</td>\n    </tr>\n    <tr>\n      <th>414</th>\n      <td>1306</td>\n      <td>NaN</td>\n      <td>1</td>\n      <td>Oliva y Ocana, Dona. Fermina</td>\n      <td>female</td>\n      <td>39.0</td>\n      <td>0</td>\n      <td>0</td>\n      <td>108.9000</td>\n      <td>C</td>\n    </tr>\n    <tr>\n      <th>415</th>\n      <td>1307</td>\n      <td>NaN</td>\n      <td>3</td>\n      <td>Saether, Mr. Simon Sivertsen</td>\n      <td>male</td>\n      <td>38.5</td>\n      <td>0</td>\n      <td>0</td>\n      <td>7.2500</td>\n      <td>S</td>\n    </tr>\n    <tr>\n      <th>416</th>\n      <td>1308</td>\n      <td>NaN</td>\n      <td>3</td>\n      <td>Ware, Mr. Frederick</td>\n      <td>male</td>\n      <td>NaN</td>\n      <td>0</td>\n      <td>0</td>\n      <td>8.0500</td>\n      <td>S</td>\n    </tr>\n    <tr>\n      <th>417</th>\n      <td>1309</td>\n      <td>NaN</td>\n      <td>3</td>\n      <td>Peter, Master. Michael J</td>\n      <td>male</td>\n      <td>NaN</td>\n      <td>1</td>\n      <td>1</td>\n      <td>22.3583</td>\n      <td>C</td>\n    </tr>\n  </tbody>\n</table>\n<p>1309 rows × 10 columns</p>\n</div>"
     },
     "execution_count": 6,
     "metadata": {},
     "output_type": "execute_result"
    }
   ],
   "source": [
    "# 删除“票”和“客舱”属性\n",
    "drop_list = ['Ticket','Cabin']\n",
    "Data = data.drop(drop_list,axis=1)\n",
    "Data"
   ]
  },
  {
   "cell_type": "code",
   "execution_count": 7,
   "metadata": {
    "ExecuteTime": {
     "end_time": "2023-10-03T16:25:27.301959Z",
     "start_time": "2023-10-03T16:25:27.297254Z"
    }
   },
   "outputs": [
    {
     "data": {
      "text/plain": "     PassengerId  Pclass                                               Name  \\\n0              1       3                            Braund, Mr. Owen Harris   \n1              2       1  Cumings, Mrs. John Bradley (Florence Briggs Th...   \n2              3       3                             Heikkinen, Miss. Laina   \n3              4       1       Futrelle, Mrs. Jacques Heath (Lily May Peel)   \n4              5       3                           Allen, Mr. William Henry   \n..           ...     ...                                                ...   \n413         1305       3                                 Spector, Mr. Woolf   \n414         1306       1                       Oliva y Ocana, Dona. Fermina   \n415         1307       3                       Saether, Mr. Simon Sivertsen   \n416         1308       3                                Ware, Mr. Frederick   \n417         1309       3                           Peter, Master. Michael J   \n\n        Sex   Age  SibSp  Parch      Fare Embarked  Survived  \n0      male  22.0      1      0    7.2500        S       0.0  \n1    female  38.0      1      0   71.2833        C       1.0  \n2    female  26.0      0      0    7.9250        S       1.0  \n3    female  35.0      1      0   53.1000        S       1.0  \n4      male  35.0      0      0    8.0500        S       0.0  \n..      ...   ...    ...    ...       ...      ...       ...  \n413    male   NaN      0      0    8.0500        S       NaN  \n414  female  39.0      0      0  108.9000        C       NaN  \n415    male  38.5      0      0    7.2500        S       NaN  \n416    male   NaN      0      0    8.0500        S       NaN  \n417    male   NaN      1      1   22.3583        C       NaN  \n\n[1309 rows x 10 columns]",
      "text/html": "<div>\n<style scoped>\n    .dataframe tbody tr th:only-of-type {\n        vertical-align: middle;\n    }\n\n    .dataframe tbody tr th {\n        vertical-align: top;\n    }\n\n    .dataframe thead th {\n        text-align: right;\n    }\n</style>\n<table border=\"1\" class=\"dataframe\">\n  <thead>\n    <tr style=\"text-align: right;\">\n      <th></th>\n      <th>PassengerId</th>\n      <th>Pclass</th>\n      <th>Name</th>\n      <th>Sex</th>\n      <th>Age</th>\n      <th>SibSp</th>\n      <th>Parch</th>\n      <th>Fare</th>\n      <th>Embarked</th>\n      <th>Survived</th>\n    </tr>\n  </thead>\n  <tbody>\n    <tr>\n      <th>0</th>\n      <td>1</td>\n      <td>3</td>\n      <td>Braund, Mr. Owen Harris</td>\n      <td>male</td>\n      <td>22.0</td>\n      <td>1</td>\n      <td>0</td>\n      <td>7.2500</td>\n      <td>S</td>\n      <td>0.0</td>\n    </tr>\n    <tr>\n      <th>1</th>\n      <td>2</td>\n      <td>1</td>\n      <td>Cumings, Mrs. John Bradley (Florence Briggs Th...</td>\n      <td>female</td>\n      <td>38.0</td>\n      <td>1</td>\n      <td>0</td>\n      <td>71.2833</td>\n      <td>C</td>\n      <td>1.0</td>\n    </tr>\n    <tr>\n      <th>2</th>\n      <td>3</td>\n      <td>3</td>\n      <td>Heikkinen, Miss. Laina</td>\n      <td>female</td>\n      <td>26.0</td>\n      <td>0</td>\n      <td>0</td>\n      <td>7.9250</td>\n      <td>S</td>\n      <td>1.0</td>\n    </tr>\n    <tr>\n      <th>3</th>\n      <td>4</td>\n      <td>1</td>\n      <td>Futrelle, Mrs. Jacques Heath (Lily May Peel)</td>\n      <td>female</td>\n      <td>35.0</td>\n      <td>1</td>\n      <td>0</td>\n      <td>53.1000</td>\n      <td>S</td>\n      <td>1.0</td>\n    </tr>\n    <tr>\n      <th>4</th>\n      <td>5</td>\n      <td>3</td>\n      <td>Allen, Mr. William Henry</td>\n      <td>male</td>\n      <td>35.0</td>\n      <td>0</td>\n      <td>0</td>\n      <td>8.0500</td>\n      <td>S</td>\n      <td>0.0</td>\n    </tr>\n    <tr>\n      <th>...</th>\n      <td>...</td>\n      <td>...</td>\n      <td>...</td>\n      <td>...</td>\n      <td>...</td>\n      <td>...</td>\n      <td>...</td>\n      <td>...</td>\n      <td>...</td>\n      <td>...</td>\n    </tr>\n    <tr>\n      <th>413</th>\n      <td>1305</td>\n      <td>3</td>\n      <td>Spector, Mr. Woolf</td>\n      <td>male</td>\n      <td>NaN</td>\n      <td>0</td>\n      <td>0</td>\n      <td>8.0500</td>\n      <td>S</td>\n      <td>NaN</td>\n    </tr>\n    <tr>\n      <th>414</th>\n      <td>1306</td>\n      <td>1</td>\n      <td>Oliva y Ocana, Dona. Fermina</td>\n      <td>female</td>\n      <td>39.0</td>\n      <td>0</td>\n      <td>0</td>\n      <td>108.9000</td>\n      <td>C</td>\n      <td>NaN</td>\n    </tr>\n    <tr>\n      <th>415</th>\n      <td>1307</td>\n      <td>3</td>\n      <td>Saether, Mr. Simon Sivertsen</td>\n      <td>male</td>\n      <td>38.5</td>\n      <td>0</td>\n      <td>0</td>\n      <td>7.2500</td>\n      <td>S</td>\n      <td>NaN</td>\n    </tr>\n    <tr>\n      <th>416</th>\n      <td>1308</td>\n      <td>3</td>\n      <td>Ware, Mr. Frederick</td>\n      <td>male</td>\n      <td>NaN</td>\n      <td>0</td>\n      <td>0</td>\n      <td>8.0500</td>\n      <td>S</td>\n      <td>NaN</td>\n    </tr>\n    <tr>\n      <th>417</th>\n      <td>1309</td>\n      <td>3</td>\n      <td>Peter, Master. Michael J</td>\n      <td>male</td>\n      <td>NaN</td>\n      <td>1</td>\n      <td>1</td>\n      <td>22.3583</td>\n      <td>C</td>\n      <td>NaN</td>\n    </tr>\n  </tbody>\n</table>\n<p>1309 rows × 10 columns</p>\n</div>"
     },
     "execution_count": 7,
     "metadata": {},
     "output_type": "execute_result"
    }
   ],
   "source": [
    "# 将“幸存”属性移动到最后一列\n",
    "mid = Data['Survived']\n",
    "Data.pop('Survived')  #删除备注列\n",
    "Data.insert(9,'Survived',mid) #插入备注列\n",
    "Data"
   ]
  },
  {
   "cell_type": "code",
   "execution_count": 8,
   "metadata": {
    "ExecuteTime": {
     "end_time": "2023-10-03T16:25:28.275368Z",
     "start_time": "2023-10-03T16:25:27.933452Z"
    }
   },
   "outputs": [
    {
     "data": {
      "text/plain": "     PassengerId  Pclass                                         Name     Sex  \\\n772          773       2                            Mack, Mrs. (Mary)  female   \n543          544       2                            Beane, Mr. Edward    male   \n289          290       3                         Connolly, Miss. Kate  female   \n10            11       3              Sandstrom, Miss. Marguerite Rut  female   \n147          148       3             Ford, Miss. Robina Maggie 'Ruby'  female   \n..           ...     ...                                          ...     ...   \n204         1096       2                     Andrew, Mr. Frank Thomas    male   \n239         1131       1  Douglas, Mrs. Walter Donald (Mahala Dutton)  female   \n403         1295       1                       Carrau, Mr. Jose Pedro    male   \n860          861       3                      Hansen, Mr. Claus Peter    male   \n235         1127       3                       Vendel, Mr. Olof Edvin    male   \n\n      Age  SibSp  Parch      Fare Embarked  Survived  \n772  57.0      0      0   10.5000        S       0.0  \n543  32.0      1      0   26.0000        S       1.0  \n289  22.0      0      0    7.7500        Q       1.0  \n10    4.0      1      1   16.7000        S       1.0  \n147   9.0      2      2   34.3750        S       0.0  \n..    ...    ...    ...       ...      ...       ...  \n204  25.0      0      0   10.5000        S       NaN  \n239  48.0      1      0  106.4250        C       NaN  \n403  17.0      0      0   47.1000        S       NaN  \n860  41.0      2      0   14.1083        S       0.0  \n235  20.0      0      0    7.8542        S       NaN  \n\n[1047 rows x 10 columns]",
      "text/html": "<div>\n<style scoped>\n    .dataframe tbody tr th:only-of-type {\n        vertical-align: middle;\n    }\n\n    .dataframe tbody tr th {\n        vertical-align: top;\n    }\n\n    .dataframe thead th {\n        text-align: right;\n    }\n</style>\n<table border=\"1\" class=\"dataframe\">\n  <thead>\n    <tr style=\"text-align: right;\">\n      <th></th>\n      <th>PassengerId</th>\n      <th>Pclass</th>\n      <th>Name</th>\n      <th>Sex</th>\n      <th>Age</th>\n      <th>SibSp</th>\n      <th>Parch</th>\n      <th>Fare</th>\n      <th>Embarked</th>\n      <th>Survived</th>\n    </tr>\n  </thead>\n  <tbody>\n    <tr>\n      <th>772</th>\n      <td>773</td>\n      <td>2</td>\n      <td>Mack, Mrs. (Mary)</td>\n      <td>female</td>\n      <td>57.0</td>\n      <td>0</td>\n      <td>0</td>\n      <td>10.5000</td>\n      <td>S</td>\n      <td>0.0</td>\n    </tr>\n    <tr>\n      <th>543</th>\n      <td>544</td>\n      <td>2</td>\n      <td>Beane, Mr. Edward</td>\n      <td>male</td>\n      <td>32.0</td>\n      <td>1</td>\n      <td>0</td>\n      <td>26.0000</td>\n      <td>S</td>\n      <td>1.0</td>\n    </tr>\n    <tr>\n      <th>289</th>\n      <td>290</td>\n      <td>3</td>\n      <td>Connolly, Miss. Kate</td>\n      <td>female</td>\n      <td>22.0</td>\n      <td>0</td>\n      <td>0</td>\n      <td>7.7500</td>\n      <td>Q</td>\n      <td>1.0</td>\n    </tr>\n    <tr>\n      <th>10</th>\n      <td>11</td>\n      <td>3</td>\n      <td>Sandstrom, Miss. Marguerite Rut</td>\n      <td>female</td>\n      <td>4.0</td>\n      <td>1</td>\n      <td>1</td>\n      <td>16.7000</td>\n      <td>S</td>\n      <td>1.0</td>\n    </tr>\n    <tr>\n      <th>147</th>\n      <td>148</td>\n      <td>3</td>\n      <td>Ford, Miss. Robina Maggie 'Ruby'</td>\n      <td>female</td>\n      <td>9.0</td>\n      <td>2</td>\n      <td>2</td>\n      <td>34.3750</td>\n      <td>S</td>\n      <td>0.0</td>\n    </tr>\n    <tr>\n      <th>...</th>\n      <td>...</td>\n      <td>...</td>\n      <td>...</td>\n      <td>...</td>\n      <td>...</td>\n      <td>...</td>\n      <td>...</td>\n      <td>...</td>\n      <td>...</td>\n      <td>...</td>\n    </tr>\n    <tr>\n      <th>204</th>\n      <td>1096</td>\n      <td>2</td>\n      <td>Andrew, Mr. Frank Thomas</td>\n      <td>male</td>\n      <td>25.0</td>\n      <td>0</td>\n      <td>0</td>\n      <td>10.5000</td>\n      <td>S</td>\n      <td>NaN</td>\n    </tr>\n    <tr>\n      <th>239</th>\n      <td>1131</td>\n      <td>1</td>\n      <td>Douglas, Mrs. Walter Donald (Mahala Dutton)</td>\n      <td>female</td>\n      <td>48.0</td>\n      <td>1</td>\n      <td>0</td>\n      <td>106.4250</td>\n      <td>C</td>\n      <td>NaN</td>\n    </tr>\n    <tr>\n      <th>403</th>\n      <td>1295</td>\n      <td>1</td>\n      <td>Carrau, Mr. Jose Pedro</td>\n      <td>male</td>\n      <td>17.0</td>\n      <td>0</td>\n      <td>0</td>\n      <td>47.1000</td>\n      <td>S</td>\n      <td>NaN</td>\n    </tr>\n    <tr>\n      <th>860</th>\n      <td>861</td>\n      <td>3</td>\n      <td>Hansen, Mr. Claus Peter</td>\n      <td>male</td>\n      <td>41.0</td>\n      <td>2</td>\n      <td>0</td>\n      <td>14.1083</td>\n      <td>S</td>\n      <td>0.0</td>\n    </tr>\n    <tr>\n      <th>235</th>\n      <td>1127</td>\n      <td>3</td>\n      <td>Vendel, Mr. Olof Edvin</td>\n      <td>male</td>\n      <td>20.0</td>\n      <td>0</td>\n      <td>0</td>\n      <td>7.8542</td>\n      <td>S</td>\n      <td>NaN</td>\n    </tr>\n  </tbody>\n</table>\n<p>1047 rows × 10 columns</p>\n</div>"
     },
     "execution_count": 8,
     "metadata": {},
     "output_type": "execute_result"
    }
   ],
   "source": [
    "from sklearn.model_selection import train_test_split\n",
    "\n",
    "train_set, test_set = train_test_split(Data, test_size=0.2,random_state=42)\n",
    "train_set"
   ]
  },
  {
   "cell_type": "code",
   "execution_count": 13,
   "outputs": [
    {
     "data": {
      "text/plain": "     PassengerId  Pclass                                         Name     Sex  \\\n772          773       2                            Mack, Mrs. (Mary)  female   \n543          544       2                            Beane, Mr. Edward    male   \n289          290       3                         Connolly, Miss. Kate  female   \n10            11       3              Sandstrom, Miss. Marguerite Rut  female   \n147          148       3             Ford, Miss. Robina Maggie 'Ruby'  female   \n..           ...     ...                                          ...     ...   \n204         1096       2                     Andrew, Mr. Frank Thomas    male   \n239         1131       1  Douglas, Mrs. Walter Donald (Mahala Dutton)  female   \n403         1295       1                       Carrau, Mr. Jose Pedro    male   \n860          861       3                      Hansen, Mr. Claus Peter    male   \n235         1127       3                       Vendel, Mr. Olof Edvin    male   \n\n      Age  SibSp  Parch      Fare Embarked  Survived  \n772  57.0      0      0   10.5000        S       0.0  \n543  32.0      1      0   26.0000        S       1.0  \n289  22.0      0      0    7.7500        Q       1.0  \n10    4.0      1      1   16.7000        S       1.0  \n147   9.0      2      2   34.3750        S       0.0  \n..    ...    ...    ...       ...      ...       ...  \n204  25.0      0      0   10.5000        S       0.0  \n239  48.0      1      0  106.4250        C       0.0  \n403  17.0      0      0   47.1000        S       0.0  \n860  41.0      2      0   14.1083        S       0.0  \n235  20.0      0      0    7.8542        S       0.0  \n\n[1047 rows x 10 columns]",
      "text/html": "<div>\n<style scoped>\n    .dataframe tbody tr th:only-of-type {\n        vertical-align: middle;\n    }\n\n    .dataframe tbody tr th {\n        vertical-align: top;\n    }\n\n    .dataframe thead th {\n        text-align: right;\n    }\n</style>\n<table border=\"1\" class=\"dataframe\">\n  <thead>\n    <tr style=\"text-align: right;\">\n      <th></th>\n      <th>PassengerId</th>\n      <th>Pclass</th>\n      <th>Name</th>\n      <th>Sex</th>\n      <th>Age</th>\n      <th>SibSp</th>\n      <th>Parch</th>\n      <th>Fare</th>\n      <th>Embarked</th>\n      <th>Survived</th>\n    </tr>\n  </thead>\n  <tbody>\n    <tr>\n      <th>772</th>\n      <td>773</td>\n      <td>2</td>\n      <td>Mack, Mrs. (Mary)</td>\n      <td>female</td>\n      <td>57.0</td>\n      <td>0</td>\n      <td>0</td>\n      <td>10.5000</td>\n      <td>S</td>\n      <td>0.0</td>\n    </tr>\n    <tr>\n      <th>543</th>\n      <td>544</td>\n      <td>2</td>\n      <td>Beane, Mr. Edward</td>\n      <td>male</td>\n      <td>32.0</td>\n      <td>1</td>\n      <td>0</td>\n      <td>26.0000</td>\n      <td>S</td>\n      <td>1.0</td>\n    </tr>\n    <tr>\n      <th>289</th>\n      <td>290</td>\n      <td>3</td>\n      <td>Connolly, Miss. Kate</td>\n      <td>female</td>\n      <td>22.0</td>\n      <td>0</td>\n      <td>0</td>\n      <td>7.7500</td>\n      <td>Q</td>\n      <td>1.0</td>\n    </tr>\n    <tr>\n      <th>10</th>\n      <td>11</td>\n      <td>3</td>\n      <td>Sandstrom, Miss. Marguerite Rut</td>\n      <td>female</td>\n      <td>4.0</td>\n      <td>1</td>\n      <td>1</td>\n      <td>16.7000</td>\n      <td>S</td>\n      <td>1.0</td>\n    </tr>\n    <tr>\n      <th>147</th>\n      <td>148</td>\n      <td>3</td>\n      <td>Ford, Miss. Robina Maggie 'Ruby'</td>\n      <td>female</td>\n      <td>9.0</td>\n      <td>2</td>\n      <td>2</td>\n      <td>34.3750</td>\n      <td>S</td>\n      <td>0.0</td>\n    </tr>\n    <tr>\n      <th>...</th>\n      <td>...</td>\n      <td>...</td>\n      <td>...</td>\n      <td>...</td>\n      <td>...</td>\n      <td>...</td>\n      <td>...</td>\n      <td>...</td>\n      <td>...</td>\n      <td>...</td>\n    </tr>\n    <tr>\n      <th>204</th>\n      <td>1096</td>\n      <td>2</td>\n      <td>Andrew, Mr. Frank Thomas</td>\n      <td>male</td>\n      <td>25.0</td>\n      <td>0</td>\n      <td>0</td>\n      <td>10.5000</td>\n      <td>S</td>\n      <td>0.0</td>\n    </tr>\n    <tr>\n      <th>239</th>\n      <td>1131</td>\n      <td>1</td>\n      <td>Douglas, Mrs. Walter Donald (Mahala Dutton)</td>\n      <td>female</td>\n      <td>48.0</td>\n      <td>1</td>\n      <td>0</td>\n      <td>106.4250</td>\n      <td>C</td>\n      <td>0.0</td>\n    </tr>\n    <tr>\n      <th>403</th>\n      <td>1295</td>\n      <td>1</td>\n      <td>Carrau, Mr. Jose Pedro</td>\n      <td>male</td>\n      <td>17.0</td>\n      <td>0</td>\n      <td>0</td>\n      <td>47.1000</td>\n      <td>S</td>\n      <td>0.0</td>\n    </tr>\n    <tr>\n      <th>860</th>\n      <td>861</td>\n      <td>3</td>\n      <td>Hansen, Mr. Claus Peter</td>\n      <td>male</td>\n      <td>41.0</td>\n      <td>2</td>\n      <td>0</td>\n      <td>14.1083</td>\n      <td>S</td>\n      <td>0.0</td>\n    </tr>\n    <tr>\n      <th>235</th>\n      <td>1127</td>\n      <td>3</td>\n      <td>Vendel, Mr. Olof Edvin</td>\n      <td>male</td>\n      <td>20.0</td>\n      <td>0</td>\n      <td>0</td>\n      <td>7.8542</td>\n      <td>S</td>\n      <td>0.0</td>\n    </tr>\n  </tbody>\n</table>\n<p>1047 rows × 10 columns</p>\n</div>"
     },
     "execution_count": 13,
     "metadata": {},
     "output_type": "execute_result"
    }
   ],
   "source": [
    "train_set"
   ],
   "metadata": {
    "collapsed": false,
    "ExecuteTime": {
     "end_time": "2023-10-03T16:26:53.735090Z",
     "start_time": "2023-10-03T16:26:53.710063Z"
    }
   }
  },
  {
   "cell_type": "code",
   "execution_count": 9,
   "metadata": {
    "ExecuteTime": {
     "end_time": "2023-10-03T16:25:28.990767Z",
     "start_time": "2023-10-03T16:25:28.942025Z"
    }
   },
   "outputs": [],
   "source": [
    "# 用数据的中位数填充“年龄”和“票价”属性中缺失的值。\n",
    "# 为分类输入添加额外的零列，以更好地适合One-Hot-Encoding。将“Sex”和“Embarked”属性的值分别替换为二进制值和分类值。\n",
    "\n",
    "from sklearn.base import BaseEstimator, TransformerMixin\n",
    "from sklearn.model_selection import StratifiedShuffleSplit  # 引入的库可以进行分层抽样\n",
    "import numpy as np\n",
    "from sklearn.pipeline import Pipeline\n",
    "from sklearn.preprocessing import StandardScaler, OneHotEncoder\n",
    "from sklearn.impute import SimpleImputer\n",
    "from sklearn.compose import ColumnTransformer\n",
    "\n",
    "\n",
    "\n",
    "\n",
    "num_attribs = [\"Age\", \"SibSp\", \"Parch\", \"Fare\"]\n",
    "cat_attribs = [\"Pclass\", \"Sex\", \"Embarked\"]\n",
    "\n",
    "num_pipeline = Pipeline([\n",
    "            ('imputer', SimpleImputer(strategy=\"median\")),\n",
    "            ('std_scaler', StandardScaler()),\n",
    "])\n",
    "\n",
    "    \n",
    "cat_pipeline = Pipeline([\n",
    "        (\"imputer\", SimpleImputer(strategy=\"most_frequent\")),\n",
    "        (\"cat_encoder\", OneHotEncoder(sparse=False)),\n",
    "])\n",
    "\n",
    "full_pipeline = ColumnTransformer([\n",
    "            (\"num\", num_pipeline, num_attribs),\n",
    "            (\"cat\",cat_pipeline, cat_attribs),\n",
    "])\n",
    "\n",
    "target = full_pipeline.fit_transform(train_set[num_attribs + cat_attribs])\n",
    "test_target = full_pipeline.transform(test_set[num_attribs + cat_attribs])\n"
   ]
  },
  {
   "cell_type": "code",
   "execution_count": 11,
   "outputs": [
    {
     "data": {
      "text/plain": "array([[ 2.1606551 , -0.48923943, -0.42965528, ...,  0.        ,\n         0.        ,  1.        ],\n       [ 0.19091034,  0.44209454, -0.42965528, ...,  0.        ,\n         0.        ,  1.        ],\n       [-0.59698756, -0.48923943, -0.42965528, ...,  0.        ,\n         1.        ,  0.        ],\n       ...,\n       [-0.99093652, -0.48923943, -0.42965528, ...,  0.        ,\n         0.        ,  1.        ],\n       [ 0.90001846,  1.37342851, -0.42965528, ...,  0.        ,\n         0.        ,  1.        ],\n       [-0.75456714, -0.48923943, -0.42965528, ...,  0.        ,\n         0.        ,  1.        ]])"
     },
     "execution_count": 11,
     "metadata": {},
     "output_type": "execute_result"
    }
   ],
   "source": [
    "target"
   ],
   "metadata": {
    "collapsed": false,
    "ExecuteTime": {
     "end_time": "2023-10-03T16:25:35.260409Z",
     "start_time": "2023-10-03T16:25:35.245324Z"
    }
   }
  },
  {
   "cell_type": "code",
   "execution_count": 10,
   "metadata": {
    "ExecuteTime": {
     "end_time": "2023-10-03T16:25:29.667925Z",
     "start_time": "2023-10-03T16:25:29.660292Z"
    }
   },
   "outputs": [],
   "source": [
    "label = train_set['Survived']\n",
    "test_label =  test_set['Survived']\n",
    "\n",
    "label.fillna(0, inplace=True)\t\n",
    "test_label.fillna(0, inplace=True)\t\n"
   ]
  },
  {
   "cell_type": "code",
   "execution_count": 12,
   "outputs": [
    {
     "data": {
      "text/plain": "772    0.0\n543    1.0\n289    1.0\n10     1.0\n147    0.0\n      ... \n204    0.0\n239    0.0\n403    0.0\n860    0.0\n235    0.0\nName: Survived, Length: 1047, dtype: float64"
     },
     "execution_count": 12,
     "metadata": {},
     "output_type": "execute_result"
    }
   ],
   "source": [
    "label"
   ],
   "metadata": {
    "collapsed": false,
    "ExecuteTime": {
     "end_time": "2023-10-03T16:25:51.453991Z",
     "start_time": "2023-10-03T16:25:51.440747Z"
    }
   }
  },
  {
   "cell_type": "code",
   "execution_count": 47,
   "metadata": {},
   "outputs": [
    {
     "name": "stdout",
     "output_type": "stream",
     "text": [
      "score  0.7223646723646724\n",
      "[0.49191295 0.59450946]\n"
     ]
    }
   ],
   "source": [
    "from sklearn.ensemble import RandomForestClassifier\n",
    "import numpy as np\n",
    "from sklearn.model_selection import GridSearchCV\n",
    "from sklearn.model_selection import cross_val_score\n",
    "from scipy import stats\n",
    "\n",
    "\n",
    "model = RandomForestClassifier(n_estimators=100, random_state=42)\n",
    "\n",
    "model .fit(target, label) \n",
    "\n",
    "predictions = model .predict(test_target)\n",
    "\n",
    "\n",
    "\n",
    "\n",
    "\n",
    "\n",
    "forest_scores = cross_val_score(model , test_target, test_label, cv=10)\n",
    "score = forest_scores.mean()\n",
    "print('score ', score )\n",
    "\n",
    "squared_errors = (predictions - test_label) ** 2\n",
    "result = np.sqrt(stats.t.interval(0.95, len(squared_errors) - 1,\n",
    "                                      loc=squared_errors.mean(), scale=stats.sem(squared_errors)))\n",
    "print(result)\n",
    "\n",
    "\n",
    "\n"
   ]
  },
  {
   "cell_type": "code",
   "execution_count": 50,
   "metadata": {},
   "outputs": [
    {
     "data": {
      "text/plain": [
       "0.7898809523809524"
      ]
     },
     "execution_count": 50,
     "metadata": {},
     "output_type": "execute_result"
    }
   ],
   "source": [
    "from sklearn.svm import SVC\n",
    "\n",
    "svm_clf = SVC(gamma=\"auto\")\n",
    "svm_scores = cross_val_score(svm_clf, target, label, cv=10)\n",
    "svm_scores.mean()"
   ]
  },
  {
   "cell_type": "code",
   "execution_count": 49,
   "metadata": {},
   "outputs": [
    {
     "data": {
      "image/png": "[encoded data removed]",
      "text/plain": [
       "<Figure size 576x288 with 1 Axes>"
      ]
     },
     "metadata": {
      "needs_background": "light"
     },
     "output_type": "display_data"
    }
   ],
   "source": [
    "import matplotlib.pyplot as plt\n",
    "\n",
    "plt.figure(figsize=(8, 4))\n",
    "plt.plot([1]*10, svm_scores, \".\")\n",
    "plt.plot([2]*10, forest_scores, \".\")\n",
    "plt.boxplot([svm_scores, forest_scores], labels=(\"SVM\",\"Random Forest\"))\n",
    "plt.ylabel(\"Accuracy\", fontsize=14)\n",
    "plt.show()"
   ]
  },
  {
   "cell_type": "code",
   "execution_count": null,
   "metadata": {},
   "outputs": [],
   "source": []
  }
 ],
 "metadata": {
  "interpreter": {
   "hash": "4d3128507b5a4621a20c2b29f37ac078f0ce925796d459584332777f346d4420"
  },
  "kernelspec": {
   "display_name": "Python 3.8.6 ('tfpy39')",
   "language": "python",
   "name": "python3"
  },
  "language_info": {
   "codemirror_mode": {
    "name": "ipython",
    "version": 3
   },
   "file_extension": ".py",
   "mimetype": "text/x-python",
   "name": "python",
   "nbconvert_exporter": "python",
   "pygments_lexer": "ipython3",
   "version": "3.8.6"
  },
  "orig_nbformat": 4
 },
 "nbformat": 4,
 "nbformat_minor": 2
}
