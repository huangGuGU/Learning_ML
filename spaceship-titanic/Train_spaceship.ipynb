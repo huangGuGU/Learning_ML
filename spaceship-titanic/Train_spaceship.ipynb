{
 "cells": [
  {
   "cell_type": "markdown",
   "metadata": {},
   "source": [
    "## 数据集写入"
   ]
  },
  {
   "cell_type": "code",
   "execution_count": 96,
   "metadata": {},
   "outputs": [],
   "source": [
    "import pandas as pd\n",
    "import numpy as np\n",
    "\n",
    "sample_submission_path = './sample_submission.csv'\n",
    "data_path = './train.csv'\n",
    "val_path = './test.csv'"
   ]
  },
  {
   "cell_type": "code",
   "execution_count": 97,
   "metadata": {},
   "outputs": [],
   "source": [
    "sample_submission = pd.read_csv(sample_submission_path,sep=',')\n",
    "Data = pd.read_csv(data_path,sep=',')\n",
    "val = pd.read_csv(val_path,sep=',')\n",
    " "
   ]
  },
  {
   "cell_type": "code",
   "execution_count": 98,
   "metadata": {},
   "outputs": [],
   "source": [
    "from sklearn.model_selection import train_test_split\n",
    "\n",
    "train, test = train_test_split(Data, test_size=0.2,random_state=42)"
   ]
  },
  {
   "cell_type": "code",
   "execution_count": 99,
   "metadata": {},
   "outputs": [
    {
     "name": "stdout",
     "output_type": "stream",
     "text": [
      "<class 'pandas.core.frame.DataFrame'>\n",
      "Int64Index: 6954 entries, 2333 to 7270\n",
      "Data columns (total 14 columns):\n",
      " #   Column        Non-Null Count  Dtype  \n",
      "---  ------        --------------  -----  \n",
      " 0   PassengerId   6954 non-null   object \n",
      " 1   HomePlanet    6786 non-null   object \n",
      " 2   CryoSleep     6777 non-null   object \n",
      " 3   Cabin         6796 non-null   object \n",
      " 4   Destination   6815 non-null   object \n",
      " 5   Age           6806 non-null   float64\n",
      " 6   VIP           6792 non-null   object \n",
      " 7   RoomService   6828 non-null   float64\n",
      " 8   FoodCourt     6814 non-null   float64\n",
      " 9   ShoppingMall  6789 non-null   float64\n",
      " 10  Spa           6820 non-null   float64\n",
      " 11  VRDeck        6803 non-null   float64\n",
      " 12  Name          6795 non-null   object \n",
      " 13  Transported   6954 non-null   bool   \n",
      "dtypes: bool(1), float64(6), object(7)\n",
      "memory usage: 767.4+ KB\n"
     ]
    }
   ],
   "source": [
    "train.info()"
   ]
  },
  {
   "cell_type": "code",
   "execution_count": 100,
   "metadata": {},
   "outputs": [
    {
     "data": {
      "text/html": [
       "<div>\n",
       "<style scoped>\n",
       "    .dataframe tbody tr th:only-of-type {\n",
       "        vertical-align: middle;\n",
       "    }\n",
       "\n",
       "    .dataframe tbody tr th {\n",
       "        vertical-align: top;\n",
       "    }\n",
       "\n",
       "    .dataframe thead th {\n",
       "        text-align: right;\n",
       "    }\n",
       "</style>\n",
       "<table border=\"1\" class=\"dataframe\">\n",
       "  <thead>\n",
       "    <tr style=\"text-align: right;\">\n",
       "      <th></th>\n",
       "      <th>Age</th>\n",
       "      <th>RoomService</th>\n",
       "      <th>FoodCourt</th>\n",
       "      <th>ShoppingMall</th>\n",
       "      <th>Spa</th>\n",
       "      <th>VRDeck</th>\n",
       "    </tr>\n",
       "  </thead>\n",
       "  <tbody>\n",
       "    <tr>\n",
       "      <th>count</th>\n",
       "      <td>6806.000000</td>\n",
       "      <td>6828.000000</td>\n",
       "      <td>6814.000000</td>\n",
       "      <td>6789.000000</td>\n",
       "      <td>6820.000000</td>\n",
       "      <td>6803.000000</td>\n",
       "    </tr>\n",
       "    <tr>\n",
       "      <th>mean</th>\n",
       "      <td>28.828093</td>\n",
       "      <td>222.822935</td>\n",
       "      <td>456.714705</td>\n",
       "      <td>175.499043</td>\n",
       "      <td>315.693842</td>\n",
       "      <td>304.189769</td>\n",
       "    </tr>\n",
       "    <tr>\n",
       "      <th>std</th>\n",
       "      <td>14.446399</td>\n",
       "      <td>674.900407</td>\n",
       "      <td>1574.797221</td>\n",
       "      <td>613.969158</td>\n",
       "      <td>1118.074541</td>\n",
       "      <td>1170.639327</td>\n",
       "    </tr>\n",
       "    <tr>\n",
       "      <th>min</th>\n",
       "      <td>0.000000</td>\n",
       "      <td>0.000000</td>\n",
       "      <td>0.000000</td>\n",
       "      <td>0.000000</td>\n",
       "      <td>0.000000</td>\n",
       "      <td>0.000000</td>\n",
       "    </tr>\n",
       "    <tr>\n",
       "      <th>25%</th>\n",
       "      <td>19.000000</td>\n",
       "      <td>0.000000</td>\n",
       "      <td>0.000000</td>\n",
       "      <td>0.000000</td>\n",
       "      <td>0.000000</td>\n",
       "      <td>0.000000</td>\n",
       "    </tr>\n",
       "    <tr>\n",
       "      <th>50%</th>\n",
       "      <td>27.000000</td>\n",
       "      <td>0.000000</td>\n",
       "      <td>0.000000</td>\n",
       "      <td>0.000000</td>\n",
       "      <td>0.000000</td>\n",
       "      <td>0.000000</td>\n",
       "    </tr>\n",
       "    <tr>\n",
       "      <th>75%</th>\n",
       "      <td>38.000000</td>\n",
       "      <td>46.000000</td>\n",
       "      <td>84.750000</td>\n",
       "      <td>30.000000</td>\n",
       "      <td>61.250000</td>\n",
       "      <td>49.500000</td>\n",
       "    </tr>\n",
       "    <tr>\n",
       "      <th>max</th>\n",
       "      <td>79.000000</td>\n",
       "      <td>14327.000000</td>\n",
       "      <td>27723.000000</td>\n",
       "      <td>23492.000000</td>\n",
       "      <td>18572.000000</td>\n",
       "      <td>24133.000000</td>\n",
       "    </tr>\n",
       "  </tbody>\n",
       "</table>\n",
       "</div>"
      ],
      "text/plain": [
       "               Age   RoomService     FoodCourt  ShoppingMall           Spa  \\\n",
       "count  6806.000000   6828.000000   6814.000000   6789.000000   6820.000000   \n",
       "mean     28.828093    222.822935    456.714705    175.499043    315.693842   \n",
       "std      14.446399    674.900407   1574.797221    613.969158   1118.074541   \n",
       "min       0.000000      0.000000      0.000000      0.000000      0.000000   \n",
       "25%      19.000000      0.000000      0.000000      0.000000      0.000000   \n",
       "50%      27.000000      0.000000      0.000000      0.000000      0.000000   \n",
       "75%      38.000000     46.000000     84.750000     30.000000     61.250000   \n",
       "max      79.000000  14327.000000  27723.000000  23492.000000  18572.000000   \n",
       "\n",
       "             VRDeck  \n",
       "count   6803.000000  \n",
       "mean     304.189769  \n",
       "std     1170.639327  \n",
       "min        0.000000  \n",
       "25%        0.000000  \n",
       "50%        0.000000  \n",
       "75%       49.500000  \n",
       "max    24133.000000  "
      ]
     },
     "execution_count": 100,
     "metadata": {},
     "output_type": "execute_result"
    }
   ],
   "source": [
    "train.describe()"
   ]
  },
  {
   "cell_type": "code",
   "execution_count": 101,
   "metadata": {},
   "outputs": [
    {
     "data": {
      "text/plain": [
       "PassengerId       0\n",
       "HomePlanet      168\n",
       "CryoSleep       177\n",
       "Cabin           158\n",
       "Destination     139\n",
       "Age             148\n",
       "VIP             162\n",
       "RoomService     126\n",
       "FoodCourt       140\n",
       "ShoppingMall    165\n",
       "Spa             134\n",
       "VRDeck          151\n",
       "Name            159\n",
       "Transported       0\n",
       "dtype: int64"
      ]
     },
     "execution_count": 101,
     "metadata": {},
     "output_type": "execute_result"
    }
   ],
   "source": [
    "train.isnull().sum() # 检查NaN的数字个数"
   ]
  },
  {
   "cell_type": "code",
   "execution_count": 102,
   "metadata": {},
   "outputs": [
    {
     "data": {
      "text/plain": [
       "Transported\n",
       "False    3454\n",
       "True     3500\n",
       "Name: Transported, dtype: int64"
      ]
     },
     "execution_count": 102,
     "metadata": {},
     "output_type": "execute_result"
    }
   ],
   "source": [
    "train.groupby('Transported')['Transported'].count()"
   ]
  },
  {
   "cell_type": "code",
   "execution_count": 103,
   "metadata": {},
   "outputs": [
    {
     "data": {
      "text/html": [
       "<div>\n",
       "<style scoped>\n",
       "    .dataframe tbody tr th:only-of-type {\n",
       "        vertical-align: middle;\n",
       "    }\n",
       "\n",
       "    .dataframe tbody tr th {\n",
       "        vertical-align: top;\n",
       "    }\n",
       "\n",
       "    .dataframe thead th {\n",
       "        text-align: right;\n",
       "    }\n",
       "</style>\n",
       "<table border=\"1\" class=\"dataframe\">\n",
       "  <thead>\n",
       "    <tr style=\"text-align: right;\">\n",
       "      <th></th>\n",
       "      <th>HomePlanet</th>\n",
       "      <th>Transported</th>\n",
       "      <th>PassengerId</th>\n",
       "    </tr>\n",
       "  </thead>\n",
       "  <tbody>\n",
       "    <tr>\n",
       "      <th>0</th>\n",
       "      <td>Earth</td>\n",
       "      <td>False</td>\n",
       "      <td>2130</td>\n",
       "    </tr>\n",
       "    <tr>\n",
       "      <th>1</th>\n",
       "      <td>Earth</td>\n",
       "      <td>True</td>\n",
       "      <td>1561</td>\n",
       "    </tr>\n",
       "    <tr>\n",
       "      <th>2</th>\n",
       "      <td>Europa</td>\n",
       "      <td>False</td>\n",
       "      <td>586</td>\n",
       "    </tr>\n",
       "    <tr>\n",
       "      <th>3</th>\n",
       "      <td>Europa</td>\n",
       "      <td>True</td>\n",
       "      <td>1116</td>\n",
       "    </tr>\n",
       "    <tr>\n",
       "      <th>4</th>\n",
       "      <td>Mars</td>\n",
       "      <td>False</td>\n",
       "      <td>657</td>\n",
       "    </tr>\n",
       "    <tr>\n",
       "      <th>5</th>\n",
       "      <td>Mars</td>\n",
       "      <td>True</td>\n",
       "      <td>736</td>\n",
       "    </tr>\n",
       "  </tbody>\n",
       "</table>\n",
       "</div>"
      ],
      "text/plain": [
       "  HomePlanet  Transported  PassengerId\n",
       "0      Earth        False         2130\n",
       "1      Earth         True         1561\n",
       "2     Europa        False          586\n",
       "3     Europa         True         1116\n",
       "4       Mars        False          657\n",
       "5       Mars         True          736"
      ]
     },
     "execution_count": 103,
     "metadata": {},
     "output_type": "execute_result"
    }
   ],
   "source": [
    "train.groupby(['HomePlanet', 'Transported'])['PassengerId'].count().reset_index()"
   ]
  },
  {
   "cell_type": "code",
   "execution_count": 104,
   "metadata": {},
   "outputs": [
    {
     "data": {
      "text/plain": [
       "array(['Earth', 'Europa', 'Mars', nan], dtype=object)"
      ]
     },
     "execution_count": 104,
     "metadata": {},
     "output_type": "execute_result"
    }
   ],
   "source": [
    "train['HomePlanet'].unique()"
   ]
  },
  {
   "cell_type": "code",
   "execution_count": 105,
   "metadata": {},
   "outputs": [
    {
     "data": {
      "text/plain": [
       "(736, 14)"
      ]
     },
     "execution_count": 105,
     "metadata": {},
     "output_type": "execute_result"
    }
   ],
   "source": [
    "train[(train['HomePlanet'] == 'Mars') & (train['Transported'] == True)].shape"
   ]
  },
  {
   "cell_type": "code",
   "execution_count": 106,
   "metadata": {},
   "outputs": [
    {
     "name": "stdout",
     "output_type": "stream",
     "text": [
      " 42.29 % Transported, HomePlanet: Earth\n",
      " 65.57 % Transported, HomePlanet: Europa\n",
      " 52.84 % Transported, HomePlanet: Mars\n",
      "\n",
      " 50.57 % Transported, VIP: False\n",
      " 38.46 % Transported, VIP: True\n",
      "\n",
      " 32.90 % Transported, CryoSleep: False\n",
      " 81.96 % Transported, CryoSleep: True\n",
      "\n",
      " 47.05 % Transported, Destination: TRAPPIST-1e\n",
      " 60.91 % Transported, Destination: 55 Cancri e\n",
      " 50.63 % Transported, Destination: PSO J318.5-22\n",
      "\n"
     ]
    },
    {
     "name": "stderr",
     "output_type": "stream",
     "text": [
      "/var/folders/70/f68hms5512gffmdv178wlrvc0000gn/T/ipykernel_8613/366798023.py:6: RuntimeWarning: invalid value encountered in true_divide\n",
      "  transported_pct = np.divide(df[(df[variable] == value) & (df['Transported'] == True)].shape[0], df[(df[variable] == value)].shape[0])\n"
     ]
    }
   ],
   "source": [
    "def calc_transported_pct(df, variable):\n",
    "    '''\n",
    "    Calculates the percentage of Transported for each ubique item in the variable value...\n",
    "    '''\n",
    "    for value in list(df[variable].unique()):\n",
    "            transported_pct = np.divide(df[(df[variable] == value) & (df['Transported'] == True)].shape[0], df[(df[variable] == value)].shape[0]) \n",
    "            if transported_pct > 0:\n",
    "                print(f'{transported_pct * 100: .2f} % Transported, {variable}: {value}')\n",
    "    print(\"\")\n",
    "\n",
    "# Review the target variable information by HomePlanet...\n",
    "\n",
    "attr_list  = ['HomePlanet','VIP', 'CryoSleep', 'Destination']\n",
    "for attr in attr_list:\n",
    "    calc_transported_pct(train, attr)\n"
   ]
  },
  {
   "cell_type": "code",
   "execution_count": 107,
   "metadata": {},
   "outputs": [
    {
     "data": {
      "text/plain": [
       "2333        Loree Mathison\n",
       "2589     Crisey Mcbriddley\n",
       "8302        Alramix Myling\n",
       "8177             Tros Pota\n",
       "500         Achyon Nalanet\n",
       "               ...        \n",
       "5734          Therry Cames\n",
       "5191           Herms Bancy\n",
       "5390      Karena Briggston\n",
       "860             Skix Kraie\n",
       "7270    Alraium Disivering\n",
       "Name: Name, Length: 6954, dtype: object"
      ]
     },
     "execution_count": 107,
     "metadata": {},
     "output_type": "execute_result"
    }
   ],
   "source": [
    "train['Name']"
   ]
  },
  {
   "cell_type": "code",
   "execution_count": 108,
   "metadata": {},
   "outputs": [
    {
     "data": {
      "text/html": [
       "<div>\n",
       "<style scoped>\n",
       "    .dataframe tbody tr th:only-of-type {\n",
       "        vertical-align: middle;\n",
       "    }\n",
       "\n",
       "    .dataframe tbody tr th {\n",
       "        vertical-align: top;\n",
       "    }\n",
       "\n",
       "    .dataframe thead th {\n",
       "        text-align: right;\n",
       "    }\n",
       "</style>\n",
       "<table border=\"1\" class=\"dataframe\">\n",
       "  <thead>\n",
       "    <tr style=\"text-align: right;\">\n",
       "      <th></th>\n",
       "      <th>PassengerId</th>\n",
       "      <th>HomePlanet</th>\n",
       "      <th>CryoSleep</th>\n",
       "      <th>Cabin</th>\n",
       "      <th>Destination</th>\n",
       "      <th>Age</th>\n",
       "      <th>VIP</th>\n",
       "      <th>RoomService</th>\n",
       "      <th>FoodCourt</th>\n",
       "      <th>ShoppingMall</th>\n",
       "      <th>Spa</th>\n",
       "      <th>VRDeck</th>\n",
       "      <th>Name</th>\n",
       "      <th>Transported</th>\n",
       "      <th>FamilyName</th>\n",
       "      <th>IndividualName</th>\n",
       "      <th>TravelingGroup</th>\n",
       "    </tr>\n",
       "  </thead>\n",
       "  <tbody>\n",
       "    <tr>\n",
       "      <th>2333</th>\n",
       "      <td>2513_01</td>\n",
       "      <td>Earth</td>\n",
       "      <td>False</td>\n",
       "      <td>NaN</td>\n",
       "      <td>TRAPPIST-1e</td>\n",
       "      <td>28.0</td>\n",
       "      <td>False</td>\n",
       "      <td>0.0</td>\n",
       "      <td>55.0</td>\n",
       "      <td>0.0</td>\n",
       "      <td>656.0</td>\n",
       "      <td>0.0</td>\n",
       "      <td>Loree Mathison</td>\n",
       "      <td>False</td>\n",
       "      <td>Mathison</td>\n",
       "      <td>Loree</td>\n",
       "      <td>2513</td>\n",
       "    </tr>\n",
       "    <tr>\n",
       "      <th>2589</th>\n",
       "      <td>2774_02</td>\n",
       "      <td>Earth</td>\n",
       "      <td>False</td>\n",
       "      <td>F/575/P</td>\n",
       "      <td>TRAPPIST-1e</td>\n",
       "      <td>17.0</td>\n",
       "      <td>False</td>\n",
       "      <td>0.0</td>\n",
       "      <td>1195.0</td>\n",
       "      <td>31.0</td>\n",
       "      <td>0.0</td>\n",
       "      <td>0.0</td>\n",
       "      <td>Crisey Mcbriddley</td>\n",
       "      <td>False</td>\n",
       "      <td>Mcbriddley</td>\n",
       "      <td>Crisey</td>\n",
       "      <td>2774</td>\n",
       "    </tr>\n",
       "    <tr>\n",
       "      <th>8302</th>\n",
       "      <td>8862_04</td>\n",
       "      <td>Europa</td>\n",
       "      <td>True</td>\n",
       "      <td>C/329/S</td>\n",
       "      <td>55 Cancri e</td>\n",
       "      <td>28.0</td>\n",
       "      <td>False</td>\n",
       "      <td>0.0</td>\n",
       "      <td>0.0</td>\n",
       "      <td>0.0</td>\n",
       "      <td>0.0</td>\n",
       "      <td>0.0</td>\n",
       "      <td>Alramix Myling</td>\n",
       "      <td>True</td>\n",
       "      <td>Myling</td>\n",
       "      <td>Alramix</td>\n",
       "      <td>8862</td>\n",
       "    </tr>\n",
       "    <tr>\n",
       "      <th>8177</th>\n",
       "      <td>8736_02</td>\n",
       "      <td>Mars</td>\n",
       "      <td>False</td>\n",
       "      <td>F/1800/P</td>\n",
       "      <td>TRAPPIST-1e</td>\n",
       "      <td>20.0</td>\n",
       "      <td>False</td>\n",
       "      <td>NaN</td>\n",
       "      <td>2.0</td>\n",
       "      <td>289.0</td>\n",
       "      <td>976.0</td>\n",
       "      <td>0.0</td>\n",
       "      <td>Tros Pota</td>\n",
       "      <td>True</td>\n",
       "      <td>Pota</td>\n",
       "      <td>Tros</td>\n",
       "      <td>8736</td>\n",
       "    </tr>\n",
       "    <tr>\n",
       "      <th>500</th>\n",
       "      <td>0539_02</td>\n",
       "      <td>Europa</td>\n",
       "      <td>True</td>\n",
       "      <td>C/18/P</td>\n",
       "      <td>55 Cancri e</td>\n",
       "      <td>36.0</td>\n",
       "      <td>False</td>\n",
       "      <td>0.0</td>\n",
       "      <td>0.0</td>\n",
       "      <td>0.0</td>\n",
       "      <td>0.0</td>\n",
       "      <td>0.0</td>\n",
       "      <td>Achyon Nalanet</td>\n",
       "      <td>True</td>\n",
       "      <td>Nalanet</td>\n",
       "      <td>Achyon</td>\n",
       "      <td>0539</td>\n",
       "    </tr>\n",
       "    <tr>\n",
       "      <th>...</th>\n",
       "      <td>...</td>\n",
       "      <td>...</td>\n",
       "      <td>...</td>\n",
       "      <td>...</td>\n",
       "      <td>...</td>\n",
       "      <td>...</td>\n",
       "      <td>...</td>\n",
       "      <td>...</td>\n",
       "      <td>...</td>\n",
       "      <td>...</td>\n",
       "      <td>...</td>\n",
       "      <td>...</td>\n",
       "      <td>...</td>\n",
       "      <td>...</td>\n",
       "      <td>...</td>\n",
       "      <td>...</td>\n",
       "      <td>...</td>\n",
       "    </tr>\n",
       "    <tr>\n",
       "      <th>5734</th>\n",
       "      <td>6076_01</td>\n",
       "      <td>Earth</td>\n",
       "      <td>NaN</td>\n",
       "      <td>G/988/S</td>\n",
       "      <td>TRAPPIST-1e</td>\n",
       "      <td>18.0</td>\n",
       "      <td>False</td>\n",
       "      <td>14.0</td>\n",
       "      <td>2.0</td>\n",
       "      <td>144.0</td>\n",
       "      <td>610.0</td>\n",
       "      <td>0.0</td>\n",
       "      <td>Therry Cames</td>\n",
       "      <td>True</td>\n",
       "      <td>Cames</td>\n",
       "      <td>Therry</td>\n",
       "      <td>6076</td>\n",
       "    </tr>\n",
       "    <tr>\n",
       "      <th>5191</th>\n",
       "      <td>5537_01</td>\n",
       "      <td>Mars</td>\n",
       "      <td>False</td>\n",
       "      <td>F/1063/S</td>\n",
       "      <td>TRAPPIST-1e</td>\n",
       "      <td>50.0</td>\n",
       "      <td>NaN</td>\n",
       "      <td>690.0</td>\n",
       "      <td>0.0</td>\n",
       "      <td>30.0</td>\n",
       "      <td>762.0</td>\n",
       "      <td>428.0</td>\n",
       "      <td>Herms Bancy</td>\n",
       "      <td>False</td>\n",
       "      <td>Bancy</td>\n",
       "      <td>Herms</td>\n",
       "      <td>5537</td>\n",
       "    </tr>\n",
       "    <tr>\n",
       "      <th>5390</th>\n",
       "      <td>5756_06</td>\n",
       "      <td>Earth</td>\n",
       "      <td>False</td>\n",
       "      <td>F/1194/P</td>\n",
       "      <td>PSO J318.5-22</td>\n",
       "      <td>22.0</td>\n",
       "      <td>False</td>\n",
       "      <td>158.0</td>\n",
       "      <td>0.0</td>\n",
       "      <td>476.0</td>\n",
       "      <td>0.0</td>\n",
       "      <td>26.0</td>\n",
       "      <td>Karena Briggston</td>\n",
       "      <td>False</td>\n",
       "      <td>Briggston</td>\n",
       "      <td>Karena</td>\n",
       "      <td>5756</td>\n",
       "    </tr>\n",
       "    <tr>\n",
       "      <th>860</th>\n",
       "      <td>0925_01</td>\n",
       "      <td>Mars</td>\n",
       "      <td>False</td>\n",
       "      <td>F/191/P</td>\n",
       "      <td>TRAPPIST-1e</td>\n",
       "      <td>34.0</td>\n",
       "      <td>False</td>\n",
       "      <td>379.0</td>\n",
       "      <td>0.0</td>\n",
       "      <td>1626.0</td>\n",
       "      <td>0.0</td>\n",
       "      <td>0.0</td>\n",
       "      <td>Skix Kraie</td>\n",
       "      <td>False</td>\n",
       "      <td>Kraie</td>\n",
       "      <td>Skix</td>\n",
       "      <td>0925</td>\n",
       "    </tr>\n",
       "    <tr>\n",
       "      <th>7270</th>\n",
       "      <td>7775_01</td>\n",
       "      <td>Europa</td>\n",
       "      <td>False</td>\n",
       "      <td>C/253/P</td>\n",
       "      <td>55 Cancri e</td>\n",
       "      <td>28.0</td>\n",
       "      <td>False</td>\n",
       "      <td>7.0</td>\n",
       "      <td>489.0</td>\n",
       "      <td>0.0</td>\n",
       "      <td>4.0</td>\n",
       "      <td>6027.0</td>\n",
       "      <td>Alraium Disivering</td>\n",
       "      <td>False</td>\n",
       "      <td>Disivering</td>\n",
       "      <td>Alraium</td>\n",
       "      <td>7775</td>\n",
       "    </tr>\n",
       "  </tbody>\n",
       "</table>\n",
       "<p>6954 rows × 17 columns</p>\n",
       "</div>"
      ],
      "text/plain": [
       "     PassengerId HomePlanet CryoSleep     Cabin    Destination   Age    VIP  \\\n",
       "2333     2513_01      Earth     False       NaN    TRAPPIST-1e  28.0  False   \n",
       "2589     2774_02      Earth     False   F/575/P    TRAPPIST-1e  17.0  False   \n",
       "8302     8862_04     Europa      True   C/329/S    55 Cancri e  28.0  False   \n",
       "8177     8736_02       Mars     False  F/1800/P    TRAPPIST-1e  20.0  False   \n",
       "500      0539_02     Europa      True    C/18/P    55 Cancri e  36.0  False   \n",
       "...          ...        ...       ...       ...            ...   ...    ...   \n",
       "5734     6076_01      Earth       NaN   G/988/S    TRAPPIST-1e  18.0  False   \n",
       "5191     5537_01       Mars     False  F/1063/S    TRAPPIST-1e  50.0    NaN   \n",
       "5390     5756_06      Earth     False  F/1194/P  PSO J318.5-22  22.0  False   \n",
       "860      0925_01       Mars     False   F/191/P    TRAPPIST-1e  34.0  False   \n",
       "7270     7775_01     Europa     False   C/253/P    55 Cancri e  28.0  False   \n",
       "\n",
       "      RoomService  FoodCourt  ShoppingMall    Spa  VRDeck                Name  \\\n",
       "2333          0.0       55.0           0.0  656.0     0.0      Loree Mathison   \n",
       "2589          0.0     1195.0          31.0    0.0     0.0   Crisey Mcbriddley   \n",
       "8302          0.0        0.0           0.0    0.0     0.0      Alramix Myling   \n",
       "8177          NaN        2.0         289.0  976.0     0.0           Tros Pota   \n",
       "500           0.0        0.0           0.0    0.0     0.0      Achyon Nalanet   \n",
       "...           ...        ...           ...    ...     ...                 ...   \n",
       "5734         14.0        2.0         144.0  610.0     0.0        Therry Cames   \n",
       "5191        690.0        0.0          30.0  762.0   428.0         Herms Bancy   \n",
       "5390        158.0        0.0         476.0    0.0    26.0    Karena Briggston   \n",
       "860         379.0        0.0        1626.0    0.0     0.0          Skix Kraie   \n",
       "7270          7.0      489.0           0.0    4.0  6027.0  Alraium Disivering   \n",
       "\n",
       "      Transported  FamilyName IndividualName TravelingGroup  \n",
       "2333        False    Mathison          Loree           2513  \n",
       "2589        False  Mcbriddley         Crisey           2774  \n",
       "8302         True      Myling        Alramix           8862  \n",
       "8177         True        Pota           Tros           8736  \n",
       "500          True     Nalanet         Achyon           0539  \n",
       "...           ...         ...            ...            ...  \n",
       "5734         True       Cames         Therry           6076  \n",
       "5191        False       Bancy          Herms           5537  \n",
       "5390        False   Briggston         Karena           5756  \n",
       "860         False       Kraie           Skix           0925  \n",
       "7270        False  Disivering        Alraium           7775  \n",
       "\n",
       "[6954 rows x 17 columns]"
      ]
     },
     "execution_count": 108,
     "metadata": {},
     "output_type": "execute_result"
    }
   ],
   "source": [
    "train['FamilyName'] = train['Name'].str.split(' ', 1, expand = True)[1]\n",
    "train['IndividualName'] = train['Name'].str.split(' ', 1, expand = True)[0]\n",
    "\n",
    "train['TravelingGroup'] = train['PassengerId'].str.split('_', 1, expand = True)[0]\n",
    "train"
   ]
  },
  {
   "cell_type": "code",
   "execution_count": 84,
   "metadata": {},
   "outputs": [
    {
     "data": {
      "text/html": [
       "<div>\n",
       "<style scoped>\n",
       "    .dataframe tbody tr th:only-of-type {\n",
       "        vertical-align: middle;\n",
       "    }\n",
       "\n",
       "    .dataframe tbody tr th {\n",
       "        vertical-align: top;\n",
       "    }\n",
       "\n",
       "    .dataframe thead th {\n",
       "        text-align: right;\n",
       "    }\n",
       "</style>\n",
       "<table border=\"1\" class=\"dataframe\">\n",
       "  <thead>\n",
       "    <tr style=\"text-align: right;\">\n",
       "      <th></th>\n",
       "      <th>PassengerId</th>\n",
       "      <th>HomePlanet</th>\n",
       "      <th>Destination</th>\n",
       "      <th>Name</th>\n",
       "      <th>Deck</th>\n",
       "      <th>Side</th>\n",
       "    </tr>\n",
       "  </thead>\n",
       "  <tbody>\n",
       "    <tr>\n",
       "      <th>2333</th>\n",
       "      <td>2513_01</td>\n",
       "      <td>Earth</td>\n",
       "      <td>TRAPPIST-1e</td>\n",
       "      <td>Loree Mathison</td>\n",
       "      <td>F</td>\n",
       "      <td>P</td>\n",
       "    </tr>\n",
       "    <tr>\n",
       "      <th>2589</th>\n",
       "      <td>2774_02</td>\n",
       "      <td>Earth</td>\n",
       "      <td>TRAPPIST-1e</td>\n",
       "      <td>Crisey Mcbriddley</td>\n",
       "      <td>F</td>\n",
       "      <td>P</td>\n",
       "    </tr>\n",
       "    <tr>\n",
       "      <th>8302</th>\n",
       "      <td>8862_04</td>\n",
       "      <td>Europa</td>\n",
       "      <td>55 Cancri e</td>\n",
       "      <td>Alramix Myling</td>\n",
       "      <td>C</td>\n",
       "      <td>P</td>\n",
       "    </tr>\n",
       "    <tr>\n",
       "      <th>8177</th>\n",
       "      <td>8736_02</td>\n",
       "      <td>Mars</td>\n",
       "      <td>TRAPPIST-1e</td>\n",
       "      <td>Tros Pota</td>\n",
       "      <td>F</td>\n",
       "      <td>P</td>\n",
       "    </tr>\n",
       "    <tr>\n",
       "      <th>500</th>\n",
       "      <td>0539_02</td>\n",
       "      <td>Europa</td>\n",
       "      <td>55 Cancri e</td>\n",
       "      <td>Achyon Nalanet</td>\n",
       "      <td>C</td>\n",
       "      <td>P</td>\n",
       "    </tr>\n",
       "  </tbody>\n",
       "</table>\n",
       "</div>"
      ],
      "text/plain": [
       "     PassengerId HomePlanet  Destination               Name Deck Side\n",
       "2333     2513_01      Earth  TRAPPIST-1e     Loree Mathison    F    P\n",
       "2589     2774_02      Earth  TRAPPIST-1e  Crisey Mcbriddley    F    P\n",
       "8302     8862_04     Europa  55 Cancri e     Alramix Myling    C    P\n",
       "8177     8736_02       Mars  TRAPPIST-1e          Tros Pota    F    P\n",
       "500      0539_02     Europa  55 Cancri e     Achyon Nalanet    C    P"
      ]
     },
     "execution_count": 84,
     "metadata": {},
     "output_type": "execute_result"
    }
   ],
   "source": [
    "train.select_dtypes(['object']).head()\n"
   ]
  },
  {
   "cell_type": "code",
   "execution_count": null,
   "metadata": {},
   "outputs": [],
   "source": []
  },
  {
   "cell_type": "markdown",
   "metadata": {},
   "source": [
    "## 缺失值处理"
   ]
  },
  {
   "cell_type": "code",
   "execution_count": 109,
   "metadata": {},
   "outputs": [],
   "source": [
    "def filling_HomePlanet(df):\n",
    "    mode = df['HomePlanet'].value_counts().index[0]\n",
    "    df['HomePlanet'] = df['HomePlanet'].fillna(mode)\n",
    "    return df\n",
    "\n",
    "def filling_CryoSleep(df):\n",
    "    df['CryoSleep'] = df['CryoSleep'].fillna(False)\n",
    "    return df\n",
    "    \n",
    "# 客舱描述:旅客所在的客舱编号。格式为deck/num/side，其中side可以是P表示Port或S表示右舷。\n",
    "def split_Cabin(df):\n",
    "    df['Deck'] = df['Cabin'].str.split(\"/\", n=2, expand=True)[0]\n",
    "    df['Number'] = df['Cabin'].str.split(\"/\", n=2, expand=True)[1]\n",
    "    df['Side'] = df['Cabin'].str.split(\"/\", n=2, expand=True)[2]\n",
    "    df.pop('Cabin')\n",
    "    return df\n",
    "\n",
    "def filling_Cabin(df):\n",
    "    df['Deck'] = df['Deck'].fillna('F')\n",
    "    mode = df[df.Deck == 'F']['Side'].value_counts().index[0]\n",
    "    df['Side'] = mode\n",
    "    df['Number'] = df['Number'].astype(float)\n",
    "    df['Number'] = df['Number'].fillna(1796 / 2)\n",
    "    return df\n",
    "\n",
    "def filling_Destination(df):\n",
    "    mode = df['Destination'].value_counts().index[0]\n",
    "    df['Destination'] = df['Destination'].fillna(mode)\n",
    "    return df\n",
    "\n",
    "def filling_VIP(df):\n",
    "    df['VIP'] = df['VIP'].fillna(False)\n",
    "    return df\n",
    "\n",
    "def filling_Name(df):\n",
    "    df['Name'] = df['Name'].fillna('None')\n",
    "    return df\n",
    "\n",
    "def filling_Age(df):\n",
    "    median = df['Age'].describe()[5]\n",
    "    df['Age'] = df['Age'].fillna(median)\n",
    "    return df\n",
    "    \n",
    "def filling_luxury_features(df):\n",
    "    luxury_features = ['RoomService','FoodCourt', 'ShoppingMall', 'Spa','VRDeck']\n",
    "    df[luxury_features] = df[luxury_features].fillna(0.0)\n",
    "    return df"
   ]
  },
  {
   "cell_type": "code",
   "execution_count": 110,
   "metadata": {},
   "outputs": [],
   "source": [
    "def filling_numerical(df):\n",
    "    df = filling_Age(df)\n",
    "    df = filling_luxury_features(df)\n",
    "    return df\n",
    "\n",
    "def filling_categorical(df):\n",
    "    df = filling_HomePlanet(df)\n",
    "    df = filling_CryoSleep(df)\n",
    "    df = split_Cabin(df)\n",
    "    df = filling_Cabin(df)\n",
    "    df = filling_Destination(df)\n",
    "    df = filling_VIP(df)\n",
    "    df = filling_Name(df)\n",
    "    return df\n",
    "\n",
    "def filling_missing(df):\n",
    "    df = filling_categorical(df)\n",
    "    df = filling_numerical(df)\n",
    "    return df\n",
    "\n",
    "Train = filling_missing(train)\n"
   ]
  },
  {
   "cell_type": "markdown",
   "metadata": {},
   "source": [
    "## 数据探索"
   ]
  },
  {
   "cell_type": "markdown",
   "metadata": {},
   "source": [
    "现在我们来检查一下偏度。偏度是一个实值随机变量关于其均值的概率分布的不对称性的度量。偏度值可以是正的、零的、负的或未定义的。对于单峰分布，负倾斜通常表示尾部在分布的左侧，正倾斜通常表示尾部在分布的右侧。在一条尾巴很长而另一条尾巴很粗的情况下，偏度并不遵循一个简单的规则。例如，值为零意味着均值两边的尾部总体平衡;这是对称分布的情况，但对于一个尾巴长而细，另一个尾巴短而胖的非对称分布也适用。偏度大于1通常被判定为偏度，所以主要检查大于1的偏度。"
   ]
  },
  {
   "cell_type": "code",
   "execution_count": 112,
   "metadata": {},
   "outputs": [
    {
     "data": {
      "text/plain": [
       "0.44360504969486925"
      ]
     },
     "execution_count": 112,
     "metadata": {},
     "output_type": "execute_result"
    }
   ],
   "source": [
    "from scipy.stats import skew, kurtosis\n",
    "skew(Train[Train.Age.isnull() == False]['Age'])"
   ]
  },
  {
   "cell_type": "markdown",
   "metadata": {},
   "source": [
    "现在我们来看峰度。在概率论和统计学中，峰度是对“尾部度”的一种度量。一个实值随机变量的概率分布。和偏斜度一样，峰度描述了概率分布的形状理论分布有不同的量化方法从总体样本中估计也有不同的方法。峰度的不同度量可能有不同的解释。由卡尔·皮尔森(Karl Pearson)提出的对分布峰度的标准度量，是该分布的第四阶矩的缩放版本。这个数字与分布的尾部有关，而不是峰值;因此，有时看到的峰度表征为“峰度peakedness”;是不正确的。对于这种度量，较高的峰度对应较大的偏差(或异常值)的极值，而不是接近平均值的数据配置。"
   ]
  },
  {
   "cell_type": "code",
   "execution_count": 114,
   "metadata": {},
   "outputs": [
    {
     "data": {
      "text/plain": [
       "0.19110018080039248"
      ]
     },
     "execution_count": 114,
     "metadata": {},
     "output_type": "execute_result"
    }
   ],
   "source": [
    "kurtosis(Train[Train.Age.isnull() == False]['Age'])"
   ]
  },
  {
   "cell_type": "code",
   "execution_count": 147,
   "metadata": {},
   "outputs": [],
   "source": [
    "temp = Train[Train.Age.isnull() == False][['Transported','Age']]\n",
    "temp['Transported'].replace([False, True], [0,1], inplace = True)\n",
    "temp['Transported'] = temp.groupby('Age')['Transported'].transform('mean')"
   ]
  },
  {
   "cell_type": "code",
   "execution_count": 148,
   "metadata": {},
   "outputs": [
    {
     "data": {
      "text/html": [
       "<div>\n",
       "<style scoped>\n",
       "    .dataframe tbody tr th:only-of-type {\n",
       "        vertical-align: middle;\n",
       "    }\n",
       "\n",
       "    .dataframe tbody tr th {\n",
       "        vertical-align: top;\n",
       "    }\n",
       "\n",
       "    .dataframe thead th {\n",
       "        text-align: right;\n",
       "    }\n",
       "</style>\n",
       "<table border=\"1\" class=\"dataframe\">\n",
       "  <thead>\n",
       "    <tr style=\"text-align: right;\">\n",
       "      <th></th>\n",
       "      <th>Transported</th>\n",
       "      <th>Age</th>\n",
       "    </tr>\n",
       "  </thead>\n",
       "  <tbody>\n",
       "    <tr>\n",
       "      <th>2333</th>\n",
       "      <td>0.580952</td>\n",
       "      <td>28.0</td>\n",
       "    </tr>\n",
       "    <tr>\n",
       "      <th>2589</th>\n",
       "      <td>0.567797</td>\n",
       "      <td>17.0</td>\n",
       "    </tr>\n",
       "    <tr>\n",
       "      <th>8302</th>\n",
       "      <td>0.580952</td>\n",
       "      <td>28.0</td>\n",
       "    </tr>\n",
       "    <tr>\n",
       "      <th>8177</th>\n",
       "      <td>0.441964</td>\n",
       "      <td>20.0</td>\n",
       "    </tr>\n",
       "    <tr>\n",
       "      <th>500</th>\n",
       "      <td>0.473282</td>\n",
       "      <td>36.0</td>\n",
       "    </tr>\n",
       "    <tr>\n",
       "      <th>...</th>\n",
       "      <td>...</td>\n",
       "      <td>...</td>\n",
       "    </tr>\n",
       "    <tr>\n",
       "      <th>5734</th>\n",
       "      <td>0.526316</td>\n",
       "      <td>18.0</td>\n",
       "    </tr>\n",
       "    <tr>\n",
       "      <th>5191</th>\n",
       "      <td>0.500000</td>\n",
       "      <td>50.0</td>\n",
       "    </tr>\n",
       "    <tr>\n",
       "      <th>5390</th>\n",
       "      <td>0.469388</td>\n",
       "      <td>22.0</td>\n",
       "    </tr>\n",
       "    <tr>\n",
       "      <th>860</th>\n",
       "      <td>0.530973</td>\n",
       "      <td>34.0</td>\n",
       "    </tr>\n",
       "    <tr>\n",
       "      <th>7270</th>\n",
       "      <td>0.580952</td>\n",
       "      <td>28.0</td>\n",
       "    </tr>\n",
       "  </tbody>\n",
       "</table>\n",
       "<p>6954 rows × 2 columns</p>\n",
       "</div>"
      ],
      "text/plain": [
       "      Transported   Age\n",
       "2333     0.580952  28.0\n",
       "2589     0.567797  17.0\n",
       "8302     0.580952  28.0\n",
       "8177     0.441964  20.0\n",
       "500      0.473282  36.0\n",
       "...           ...   ...\n",
       "5734     0.526316  18.0\n",
       "5191     0.500000  50.0\n",
       "5390     0.469388  22.0\n",
       "860      0.530973  34.0\n",
       "7270     0.580952  28.0\n",
       "\n",
       "[6954 rows x 2 columns]"
      ]
     },
     "execution_count": 148,
     "metadata": {},
     "output_type": "execute_result"
    }
   ],
   "source": [
    "temp"
   ]
  },
  {
   "cell_type": "code",
   "execution_count": 167,
   "metadata": {},
   "outputs": [
    {
     "data": {
      "text/plain": [
       "Text(0, 0.5, 'Transported ratio %')"
      ]
     },
     "execution_count": 167,
     "metadata": {},
     "output_type": "execute_result"
    },
    {
     "data": {
      "image/png": "[encoded data removed]",
      "text/plain": [
       "<Figure size 1800x1200 with 2 Axes>"
      ]
     },
     "metadata": {
      "needs_background": "light"
     },
     "output_type": "display_data"
    }
   ],
   "source": [
    "import matplotlib.pyplot as plt\n",
    "plt.figure(dpi=300)\n",
    "plt.scatter(temp['Age'],temp['Transported']*100,alpha=0.3)\n",
    "plt.colorbar()\n",
    "plt.xlabel( 'Age')\n",
    "plt.ylabel('Transported ratio %' )"
   ]
  },
  {
   "cell_type": "code",
   "execution_count": 173,
   "metadata": {},
   "outputs": [
    {
     "data": {
      "text/html": [
       "<style type=\"text/css\">\n",
       "#T_5b303_row0_col4, #T_5b303_row1_col4, #T_5b303_row2_col4, #T_5b303_row3_col4, #T_5b303_row4_col4 {\n",
       "  background-color: lightseagreen;\n",
       "}\n",
       "</style>\n",
       "<table id=\"T_5b303\">\n",
       "  <thead>\n",
       "    <tr>\n",
       "      <th class=\"blank level0\" >&nbsp;</th>\n",
       "      <th id=\"T_5b303_level0_col0\" class=\"col_heading level0 col0\" >PassengerId</th>\n",
       "      <th id=\"T_5b303_level0_col1\" class=\"col_heading level0 col1\" >HomePlanet</th>\n",
       "      <th id=\"T_5b303_level0_col2\" class=\"col_heading level0 col2\" >CryoSleep</th>\n",
       "      <th id=\"T_5b303_level0_col3\" class=\"col_heading level0 col3\" >Destination</th>\n",
       "      <th id=\"T_5b303_level0_col4\" class=\"col_heading level0 col4\" >Age</th>\n",
       "      <th id=\"T_5b303_level0_col5\" class=\"col_heading level0 col5\" >VIP</th>\n",
       "      <th id=\"T_5b303_level0_col6\" class=\"col_heading level0 col6\" >RoomService</th>\n",
       "      <th id=\"T_5b303_level0_col7\" class=\"col_heading level0 col7\" >FoodCourt</th>\n",
       "      <th id=\"T_5b303_level0_col8\" class=\"col_heading level0 col8\" >ShoppingMall</th>\n",
       "      <th id=\"T_5b303_level0_col9\" class=\"col_heading level0 col9\" >Spa</th>\n",
       "      <th id=\"T_5b303_level0_col10\" class=\"col_heading level0 col10\" >VRDeck</th>\n",
       "      <th id=\"T_5b303_level0_col11\" class=\"col_heading level0 col11\" >Name</th>\n",
       "      <th id=\"T_5b303_level0_col12\" class=\"col_heading level0 col12\" >Transported</th>\n",
       "      <th id=\"T_5b303_level0_col13\" class=\"col_heading level0 col13\" >FamilyName</th>\n",
       "      <th id=\"T_5b303_level0_col14\" class=\"col_heading level0 col14\" >IndividualName</th>\n",
       "      <th id=\"T_5b303_level0_col15\" class=\"col_heading level0 col15\" >TravelingGroup</th>\n",
       "      <th id=\"T_5b303_level0_col16\" class=\"col_heading level0 col16\" >Deck</th>\n",
       "      <th id=\"T_5b303_level0_col17\" class=\"col_heading level0 col17\" >Number</th>\n",
       "      <th id=\"T_5b303_level0_col18\" class=\"col_heading level0 col18\" >Side</th>\n",
       "    </tr>\n",
       "  </thead>\n",
       "  <tbody>\n",
       "    <tr>\n",
       "      <th id=\"T_5b303_level0_row0\" class=\"row_heading level0 row0\" >2333</th>\n",
       "      <td id=\"T_5b303_row0_col0\" class=\"data row0 col0\" >2513_01</td>\n",
       "      <td id=\"T_5b303_row0_col1\" class=\"data row0 col1\" >Earth</td>\n",
       "      <td id=\"T_5b303_row0_col2\" class=\"data row0 col2\" >False</td>\n",
       "      <td id=\"T_5b303_row0_col3\" class=\"data row0 col3\" >TRAPPIST-1e</td>\n",
       "      <td id=\"T_5b303_row0_col4\" class=\"data row0 col4\" >(27.0, 30.0]</td>\n",
       "      <td id=\"T_5b303_row0_col5\" class=\"data row0 col5\" >False</td>\n",
       "      <td id=\"T_5b303_row0_col6\" class=\"data row0 col6\" >0.000000</td>\n",
       "      <td id=\"T_5b303_row0_col7\" class=\"data row0 col7\" >55.000000</td>\n",
       "      <td id=\"T_5b303_row0_col8\" class=\"data row0 col8\" >0.000000</td>\n",
       "      <td id=\"T_5b303_row0_col9\" class=\"data row0 col9\" >656.000000</td>\n",
       "      <td id=\"T_5b303_row0_col10\" class=\"data row0 col10\" >0.000000</td>\n",
       "      <td id=\"T_5b303_row0_col11\" class=\"data row0 col11\" >Loree Mathison</td>\n",
       "      <td id=\"T_5b303_row0_col12\" class=\"data row0 col12\" >False</td>\n",
       "      <td id=\"T_5b303_row0_col13\" class=\"data row0 col13\" >Mathison</td>\n",
       "      <td id=\"T_5b303_row0_col14\" class=\"data row0 col14\" >Loree</td>\n",
       "      <td id=\"T_5b303_row0_col15\" class=\"data row0 col15\" >2513</td>\n",
       "      <td id=\"T_5b303_row0_col16\" class=\"data row0 col16\" >F</td>\n",
       "      <td id=\"T_5b303_row0_col17\" class=\"data row0 col17\" >898.000000</td>\n",
       "      <td id=\"T_5b303_row0_col18\" class=\"data row0 col18\" >P</td>\n",
       "    </tr>\n",
       "    <tr>\n",
       "      <th id=\"T_5b303_level0_row1\" class=\"row_heading level0 row1\" >2589</th>\n",
       "      <td id=\"T_5b303_row1_col0\" class=\"data row1 col0\" >2774_02</td>\n",
       "      <td id=\"T_5b303_row1_col1\" class=\"data row1 col1\" >Earth</td>\n",
       "      <td id=\"T_5b303_row1_col2\" class=\"data row1 col2\" >False</td>\n",
       "      <td id=\"T_5b303_row1_col3\" class=\"data row1 col3\" >TRAPPIST-1e</td>\n",
       "      <td id=\"T_5b303_row1_col4\" class=\"data row1 col4\" >(13.0, 18.0]</td>\n",
       "      <td id=\"T_5b303_row1_col5\" class=\"data row1 col5\" >False</td>\n",
       "      <td id=\"T_5b303_row1_col6\" class=\"data row1 col6\" >0.000000</td>\n",
       "      <td id=\"T_5b303_row1_col7\" class=\"data row1 col7\" >1195.000000</td>\n",
       "      <td id=\"T_5b303_row1_col8\" class=\"data row1 col8\" >31.000000</td>\n",
       "      <td id=\"T_5b303_row1_col9\" class=\"data row1 col9\" >0.000000</td>\n",
       "      <td id=\"T_5b303_row1_col10\" class=\"data row1 col10\" >0.000000</td>\n",
       "      <td id=\"T_5b303_row1_col11\" class=\"data row1 col11\" >Crisey Mcbriddley</td>\n",
       "      <td id=\"T_5b303_row1_col12\" class=\"data row1 col12\" >False</td>\n",
       "      <td id=\"T_5b303_row1_col13\" class=\"data row1 col13\" >Mcbriddley</td>\n",
       "      <td id=\"T_5b303_row1_col14\" class=\"data row1 col14\" >Crisey</td>\n",
       "      <td id=\"T_5b303_row1_col15\" class=\"data row1 col15\" >2774</td>\n",
       "      <td id=\"T_5b303_row1_col16\" class=\"data row1 col16\" >F</td>\n",
       "      <td id=\"T_5b303_row1_col17\" class=\"data row1 col17\" >575.000000</td>\n",
       "      <td id=\"T_5b303_row1_col18\" class=\"data row1 col18\" >P</td>\n",
       "    </tr>\n",
       "    <tr>\n",
       "      <th id=\"T_5b303_level0_row2\" class=\"row_heading level0 row2\" >8302</th>\n",
       "      <td id=\"T_5b303_row2_col0\" class=\"data row2 col0\" >8862_04</td>\n",
       "      <td id=\"T_5b303_row2_col1\" class=\"data row2 col1\" >Europa</td>\n",
       "      <td id=\"T_5b303_row2_col2\" class=\"data row2 col2\" >True</td>\n",
       "      <td id=\"T_5b303_row2_col3\" class=\"data row2 col3\" >55 Cancri e</td>\n",
       "      <td id=\"T_5b303_row2_col4\" class=\"data row2 col4\" >(27.0, 30.0]</td>\n",
       "      <td id=\"T_5b303_row2_col5\" class=\"data row2 col5\" >False</td>\n",
       "      <td id=\"T_5b303_row2_col6\" class=\"data row2 col6\" >0.000000</td>\n",
       "      <td id=\"T_5b303_row2_col7\" class=\"data row2 col7\" >0.000000</td>\n",
       "      <td id=\"T_5b303_row2_col8\" class=\"data row2 col8\" >0.000000</td>\n",
       "      <td id=\"T_5b303_row2_col9\" class=\"data row2 col9\" >0.000000</td>\n",
       "      <td id=\"T_5b303_row2_col10\" class=\"data row2 col10\" >0.000000</td>\n",
       "      <td id=\"T_5b303_row2_col11\" class=\"data row2 col11\" >Alramix Myling</td>\n",
       "      <td id=\"T_5b303_row2_col12\" class=\"data row2 col12\" >True</td>\n",
       "      <td id=\"T_5b303_row2_col13\" class=\"data row2 col13\" >Myling</td>\n",
       "      <td id=\"T_5b303_row2_col14\" class=\"data row2 col14\" >Alramix</td>\n",
       "      <td id=\"T_5b303_row2_col15\" class=\"data row2 col15\" >8862</td>\n",
       "      <td id=\"T_5b303_row2_col16\" class=\"data row2 col16\" >C</td>\n",
       "      <td id=\"T_5b303_row2_col17\" class=\"data row2 col17\" >329.000000</td>\n",
       "      <td id=\"T_5b303_row2_col18\" class=\"data row2 col18\" >P</td>\n",
       "    </tr>\n",
       "    <tr>\n",
       "      <th id=\"T_5b303_level0_row3\" class=\"row_heading level0 row3\" >8177</th>\n",
       "      <td id=\"T_5b303_row3_col0\" class=\"data row3 col0\" >8736_02</td>\n",
       "      <td id=\"T_5b303_row3_col1\" class=\"data row3 col1\" >Mars</td>\n",
       "      <td id=\"T_5b303_row3_col2\" class=\"data row3 col2\" >False</td>\n",
       "      <td id=\"T_5b303_row3_col3\" class=\"data row3 col3\" >TRAPPIST-1e</td>\n",
       "      <td id=\"T_5b303_row3_col4\" class=\"data row3 col4\" >(18.0, 21.0]</td>\n",
       "      <td id=\"T_5b303_row3_col5\" class=\"data row3 col5\" >False</td>\n",
       "      <td id=\"T_5b303_row3_col6\" class=\"data row3 col6\" >0.000000</td>\n",
       "      <td id=\"T_5b303_row3_col7\" class=\"data row3 col7\" >2.000000</td>\n",
       "      <td id=\"T_5b303_row3_col8\" class=\"data row3 col8\" >289.000000</td>\n",
       "      <td id=\"T_5b303_row3_col9\" class=\"data row3 col9\" >976.000000</td>\n",
       "      <td id=\"T_5b303_row3_col10\" class=\"data row3 col10\" >0.000000</td>\n",
       "      <td id=\"T_5b303_row3_col11\" class=\"data row3 col11\" >Tros Pota</td>\n",
       "      <td id=\"T_5b303_row3_col12\" class=\"data row3 col12\" >True</td>\n",
       "      <td id=\"T_5b303_row3_col13\" class=\"data row3 col13\" >Pota</td>\n",
       "      <td id=\"T_5b303_row3_col14\" class=\"data row3 col14\" >Tros</td>\n",
       "      <td id=\"T_5b303_row3_col15\" class=\"data row3 col15\" >8736</td>\n",
       "      <td id=\"T_5b303_row3_col16\" class=\"data row3 col16\" >F</td>\n",
       "      <td id=\"T_5b303_row3_col17\" class=\"data row3 col17\" >1800.000000</td>\n",
       "      <td id=\"T_5b303_row3_col18\" class=\"data row3 col18\" >P</td>\n",
       "    </tr>\n",
       "    <tr>\n",
       "      <th id=\"T_5b303_level0_row4\" class=\"row_heading level0 row4\" >500</th>\n",
       "      <td id=\"T_5b303_row4_col0\" class=\"data row4 col0\" >0539_02</td>\n",
       "      <td id=\"T_5b303_row4_col1\" class=\"data row4 col1\" >Europa</td>\n",
       "      <td id=\"T_5b303_row4_col2\" class=\"data row4 col2\" >True</td>\n",
       "      <td id=\"T_5b303_row4_col3\" class=\"data row4 col3\" >55 Cancri e</td>\n",
       "      <td id=\"T_5b303_row4_col4\" class=\"data row4 col4\" >(35.0, 40.0]</td>\n",
       "      <td id=\"T_5b303_row4_col5\" class=\"data row4 col5\" >False</td>\n",
       "      <td id=\"T_5b303_row4_col6\" class=\"data row4 col6\" >0.000000</td>\n",
       "      <td id=\"T_5b303_row4_col7\" class=\"data row4 col7\" >0.000000</td>\n",
       "      <td id=\"T_5b303_row4_col8\" class=\"data row4 col8\" >0.000000</td>\n",
       "      <td id=\"T_5b303_row4_col9\" class=\"data row4 col9\" >0.000000</td>\n",
       "      <td id=\"T_5b303_row4_col10\" class=\"data row4 col10\" >0.000000</td>\n",
       "      <td id=\"T_5b303_row4_col11\" class=\"data row4 col11\" >Achyon Nalanet</td>\n",
       "      <td id=\"T_5b303_row4_col12\" class=\"data row4 col12\" >True</td>\n",
       "      <td id=\"T_5b303_row4_col13\" class=\"data row4 col13\" >Nalanet</td>\n",
       "      <td id=\"T_5b303_row4_col14\" class=\"data row4 col14\" >Achyon</td>\n",
       "      <td id=\"T_5b303_row4_col15\" class=\"data row4 col15\" >0539</td>\n",
       "      <td id=\"T_5b303_row4_col16\" class=\"data row4 col16\" >C</td>\n",
       "      <td id=\"T_5b303_row4_col17\" class=\"data row4 col17\" >18.000000</td>\n",
       "      <td id=\"T_5b303_row4_col18\" class=\"data row4 col18\" >P</td>\n",
       "    </tr>\n",
       "  </tbody>\n",
       "</table>\n"
      ],
      "text/plain": [
       "<pandas.io.formats.style.Styler at 0x157a9c580>"
      ]
     },
     "execution_count": 173,
     "metadata": {},
     "output_type": "execute_result"
    }
   ],
   "source": [
    "Train['Age'] = pd.qcut(Train['Age'], 10)\n",
    "Train.head().style.set_properties(subset=['Age'], **{'background-color': 'lightseagreen'})"
   ]
  },
  {
   "cell_type": "markdown",
   "metadata": {},
   "source": [
    "## 建模"
   ]
  },
  {
   "cell_type": "code",
   "execution_count": 80,
   "metadata": {},
   "outputs": [],
   "source": [
    "from sklearn.base import BaseEstimator, TransformerMixin\n",
    "from sklearn.model_selection import StratifiedShuffleSplit  # 引入的库可以进行分层抽样\n",
    "import numpy as np\n",
    "from sklearn.pipeline import Pipeline\n",
    "from sklearn.preprocessing import StandardScaler, OneHotEncoder\n",
    "from sklearn.impute import SimpleImputer\n",
    "from sklearn.compose import ColumnTransformer\n",
    "\n",
    "\n",
    "cat_list = ['HomePlanet','CryoSleep' ,'Destination' ,'VIP' ]\n",
    "num_list = ['RoomService', 'FoodCourt', 'ShoppingMall', 'Spa', 'VRDeck','Age']\n",
    "\n",
    "\n",
    "num_pipeline = Pipeline([\n",
    "            ('imputer', SimpleImputer(strategy=\"median\")),\n",
    "            ('std_scaler', StandardScaler()),\n",
    "])\n",
    "    \n",
    "cat_pipeline = Pipeline([\n",
    "        (\"imputer\", SimpleImputer(strategy=\"most_frequent\")),\n",
    "        (\"cat_encoder\", OneHotEncoder(sparse=False)),\n",
    "])\n",
    "\n",
    "full_pipeline = ColumnTransformer([\n",
    "            (\"num\", num_pipeline, num_list),\n",
    "            (\"cat\",cat_pipeline, cat_list),\n",
    "])\n",
    "\n",
    "target = full_pipeline.fit_transform(train[num_list+cat_list])\n",
    "test_target = full_pipeline.transform(test[num_list+cat_list])\n",
    "val_target =  full_pipeline.transform(val[num_list+cat_list])\n"
   ]
  },
  {
   "cell_type": "code",
   "execution_count": 219,
   "metadata": {},
   "outputs": [],
   "source": [
    "target_label = np.array(train['Transported']*1.0)\n",
    "test_label = np.array(test['Transported']*1.0)"
   ]
  },
  {
   "cell_type": "code",
   "execution_count": 231,
   "metadata": {},
   "outputs": [
    {
     "data": {
      "text/plain": [
       "VotingClassifier(estimators=[('random_forest_clf',\n",
       "                              RandomForestClassifier(n_estimators=1000,\n",
       "                                                     random_state=42)),\n",
       "                             ('extra_trees_clf',\n",
       "                              ExtraTreesClassifier(n_estimators=1000,\n",
       "                                                   random_state=42)),\n",
       "                             ('svm_clf', LinearSVC(random_state=42, tol=20)),\n",
       "                             ('mlp_clf',\n",
       "                              MLPClassifier(max_iter=1000, random_state=42))])"
      ]
     },
     "execution_count": 231,
     "metadata": {},
     "output_type": "execute_result"
    }
   ],
   "source": [
    "from sklearn.ensemble import RandomForestClassifier, ExtraTreesClassifier\n",
    "from sklearn.svm import LinearSVC\n",
    "from sklearn.neural_network import MLPClassifier\n",
    "from sklearn.ensemble import VotingClassifier\n",
    "\n",
    "random_forest_clf = RandomForestClassifier(n_estimators=1000, random_state=42)\n",
    "extra_trees_clf = ExtraTreesClassifier(n_estimators=1000, random_state=42)\n",
    "svm_clf = LinearSVC(max_iter=100, tol=20, random_state=42)\n",
    "mlp_clf = MLPClassifier( max_iter=100,random_state=42)\n",
    "named_estimators = [\n",
    "    (\"random_forest_clf\", random_forest_clf),\n",
    "    (\"extra_trees_clf\", extra_trees_clf),\n",
    "    (\"svm_clf\", svm_clf),\n",
    "    (\"mlp_clf\",mlp_clf),\n",
    "]\n",
    "voting_clf = VotingClassifier(named_estimators)\n",
    "\n",
    "\n",
    "\n",
    "voting_clf.fit(target, target_label )\n"
   ]
  },
  {
   "cell_type": "code",
   "execution_count": 232,
   "metadata": {},
   "outputs": [
    {
     "data": {
      "text/plain": [
       "array([0., 1., 1., ..., 0., 1., 0.])"
      ]
     },
     "execution_count": 232,
     "metadata": {},
     "output_type": "execute_result"
    }
   ],
   "source": [
    "predictions =  voting_clf.predict(test_target)\n",
    "predictions"
   ]
  },
  {
   "cell_type": "code",
   "execution_count": 233,
   "metadata": {},
   "outputs": [
    {
     "name": "stdout",
     "output_type": "stream",
     "text": [
      "score  0.7647863929307024\n",
      "accuracy_score 0.7745830937320299\n"
     ]
    }
   ],
   "source": [
    "from sklearn.model_selection import cross_val_score\n",
    "from scipy import stats\n",
    "from sklearn.metrics import accuracy_score\n",
    "scores = cross_val_score(voting_clf  ,test_target[:,:-1] , test_label.reshape(test_label.shape[0]) ,cv=10)\n",
    "score = scores.mean()\n",
    "print('score ', score )\n",
    "\n",
    "\n",
    "accuracy_score = accuracy_score(test_label, predictions, normalize=True, sample_weight=None)\n",
    "print('accuracy_score',accuracy_score)"
   ]
  },
  {
   "cell_type": "code",
   "execution_count": 226,
   "metadata": {},
   "outputs": [],
   "source": [
    "predictions =  voting_clf.predict(val_target)"
   ]
  },
  {
   "cell_type": "code",
   "execution_count": null,
   "metadata": {},
   "outputs": [
    {
     "data": {
      "text/plain": [
       "(8693, 18)"
      ]
     },
     "metadata": {},
     "output_type": "display_data"
    }
   ],
   "source": [
    "target.shape"
   ]
  },
  {
   "cell_type": "code",
   "execution_count": 227,
   "metadata": {},
   "outputs": [
    {
     "data": {
      "text/plain": [
       "array([1., 0., 1., ..., 1., 1., 0.])"
      ]
     },
     "execution_count": 227,
     "metadata": {},
     "output_type": "execute_result"
    }
   ],
   "source": [
    "predictions "
   ]
  },
  {
   "cell_type": "code",
   "execution_count": null,
   "metadata": {},
   "outputs": [],
   "source": [
    "\n"
   ]
  }
 ],
 "metadata": {
  "interpreter": {
   "hash": "4d3128507b5a4621a20c2b29f37ac078f0ce925796d459584332777f346d4420"
  },
  "kernelspec": {
   "display_name": "Python 3.8.6 ('tfpy39')",
   "language": "python",
   "name": "python3"
  },
  "language_info": {
   "codemirror_mode": {
    "name": "ipython",
    "version": 3
   },
   "file_extension": ".py",
   "mimetype": "text/x-python",
   "name": "python",
   "nbconvert_exporter": "python",
   "pygments_lexer": "ipython3",
   "version": "3.8.6"
  },
  "orig_nbformat": 4
 },
 "nbformat": 4,
 "nbformat_minor": 2
}
